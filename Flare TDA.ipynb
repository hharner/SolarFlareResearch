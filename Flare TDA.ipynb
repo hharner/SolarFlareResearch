{
 "cells": [
  {
   "cell_type": "markdown",
   "id": "6e200d71",
   "metadata": {},
   "source": [
    "# Setup"
   ]
  },
  {
   "cell_type": "code",
   "execution_count": 74,
   "id": "085e1e41",
   "metadata": {},
   "outputs": [],
   "source": [
    "jsoc_email = \"hudson.harner657@topper.wku.edu\""
   ]
  },
  {
   "cell_type": "code",
   "execution_count": 75,
   "id": "7173d2ed",
   "metadata": {},
   "outputs": [],
   "source": [
    "%matplotlib inline\n",
    "import sunpy\n",
    "import aiapy\n",
    "import aiapy.data.sample as sample_data\n",
    "from aiapy.calibrate import normalize_exposure, register, update_pointing\n",
    "import astropy\n",
    "import astropy.units as u\n",
    "from astropy.coordinates import SkyCoord\n",
    "import matplotlib\n",
    "import matplotlib.pyplot as plt\n",
    "import matplotlib.animation\n",
    "import numpy as np\n",
    "import scipy\n",
    "\n",
    "#Set default figure size for matplotlib\n",
    "plt.rcParams['figure.figsize'] = [8, 8]\n",
    "from sunpy.net import Fido, attrs as a\n",
    "from sunpy.timeseries import TimeSeries\n",
    "import datetime\n",
    "#import ffmpeg\n",
    "#import torch\n",
    "from ast import literal_eval as make_tuple"
   ]
  },
  {
   "cell_type": "code",
   "execution_count": 76,
   "id": "a4759531",
   "metadata": {},
   "outputs": [
    {
     "data": {
      "text/html": [
       "Results from 1 Provider:</br></br>2 Results from the HEKClient:</br><div><i>HEKTable length=2</i>\n",
       "<table id=\"table1437906416544\" class=\"table-striped table-bordered table-condensed\">\n",
       "<thead><tr><th>gs_thumburl</th><th>comment_count</th><th>hpc_bbox</th><th>frm_humanflag</th><th>hgc_coord</th><th>event_coordsys</th><th>obs_levelnum</th><th>hpc_coord</th><th>event_npixels</th><th>gs_imageurl</th><th>ar_polarity</th><th>frm_paramset</th><th>hrc_coord</th><th>event_starttime</th><th>ar_mtwilsoncls</th><th>event_type</th><th>intensmin</th><th>fl_fluence</th><th>obs_meanwavel</th><th>frm_url</th><th>skel_chaincode</th><th>bound_chaincode</th><th>noposition</th><th>fl_fluenceunit</th><th>active</th><th>intensmax</th><th>frm_versionnumber</th><th>fl_peaktempunit</th><th>fl_halphaclass</th><th>area_uncert</th><th>obs_dataprepurl</th><th>hpc_geom</th><th>hgc_bbox</th><th>intensmedian</th><th>chaincodetype</th><th>obs_channelid</th><th>event_clippedspatial</th><th>ar_noaaclass</th><th>SOL_standard</th><th>event_avg_rating</th><th>eventtype</th><th>intensunit</th><th>hpc_boundcc</th><th>event_mapurl</th><th>frm_contact</th><th>ar_penumbracls</th><th>intensmean</th><th>bound_ccstartc1</th><th>frm_name</th><th>area_atdiskcenter</th><th>frm_identifier</th><th>obs_observatory</th><th>event_description</th><th>boundbox_c2ur</th><th>obs_firstprocessingdate</th><th>boundbox_c2ll</th><th>frm_institute</th><th>hrc_bbox</th><th>refs_orig</th><th>ar_mcintoshcls</th><th>event_maskurl</th><th>bound_ccstartc2</th><th>gs_movieurl</th><th>event_score</th><th>skel_startc2</th><th>skel_startc1</th><th>fl_efoldtime</th><th>event_expires</th><th>fl_efoldtimeunit</th><th>hrc_boundcc</th><th>event_probability</th><th>intensvar</th><th>frm_daterun</th><th>event_coordunit</th><th>hpc_y</th><th>hpc_x</th><th>search_instrument</th><th>ar_numspots</th><th>kb_archivdate</th><th>kb_archivist</th><th>intenstotal</th><th>sum_overlap_scores</th><th>hgs_boundcc</th><th>intensskew</th><th>obs_includesnrt</th><th>rasterscan</th><th>obs_wavelunit</th><th>kb_archivid</th><th>search_frm_name</th><th>boundbox_c1ur</th><th>ar_noaanum</th><th>area_atdiskcenteruncert</th><th>boundbox_c1ll</th><th>event_importance_num_ratings</th><th>ar_compactnesscls</th><th>skel_curvature</th><th>event_testflag</th><th>event_c2error</th><th>hrc_r</th><th>skel_nsteps</th><th>hgs_y</th><th>obs_title</th><th>fl_peakemunit</th><th>hgs_x</th><th>hcr_checked</th><th>frm_specificid</th><th>event_title</th><th>obs_instrument</th><th>event_c1error</th><th>revision</th><th>hpc_radius</th><th>event_endtime</th><th>event_importance</th><th>event_coord2</th><th>event_coord3</th><th>event_coord1</th><th>search_observatory</th><th>area_raw</th><th>concept</th><th>event_pixelunit</th><th>hgc_boundcc</th><th>fl_peakflux</th><th>hgc_x</th><th>hrc_a</th><th>event_peaktime</th><th>hgc_y</th><th>gs_galleryid</th><th>fl_goescls</th><th>hgs_coord</th><th>ar_zurichcls</th><th>bound_ccnsteps</th><th>intenskurt</th><th>event_clippedtemporal</th><th>fl_peakfluxunit</th><th>fl_peakem</th><th>rasterscantype</th><th>search_channelid</th><th>fl_peaktemp</th><th>hgs_bbox</th><th>area_unit</th><th>obs_lastprocessingdate</th><th>refs</th></tr></thead>\n",
       "<thead><tr><th>str131</th><th>str1</th><th>str115</th><th>str5</th><th>str20</th><th>str12</th><th>object</th><th>str27</th><th>object</th><th>str130</th><th>object</th><th>str57</th><th>str41</th><th>str19</th><th>str1</th><th>str2</th><th>object</th><th>object</th><th>float64</th><th>str82</th><th>str1</th><th>str1</th><th>str5</th><th>str1</th><th>str4</th><th>object</th><th>object</th><th>str1</th><th>str1</th><th>object</th><th>str1</th><th>str186</th><th>str91</th><th>object</th><th>str1</th><th>str3</th><th>str1</th><th>str1</th><th>str30</th><th>object</th><th>str1</th><th>str1</th><th>str1</th><th>str1</th><th>str23</th><th>str1</th><th>object</th><th>object</th><th>str17</th><th>object</th><th>str9</th><th>str4</th><th>str1</th><th>float64</th><th>str1</th><th>float64</th><th>str61</th><th>str110</th><th>str1</th><th>str1</th><th>str1</th><th>object</th><th>str99</th><th>str20</th><th>object</th><th>object</th><th>object</th><th>str1</th><th>str1</th><th>str1</th><th>object</th><th>object</th><th>str19</th><th>str7</th><th>float64</th><th>float64</th><th>str4</th><th>object</th><th>str19</th><th>str15</th><th>object</th><th>str1</th><th>str1</th><th>object</th><th>str1</th><th>str1</th><th>str2</th><th>str66</th><th>str17</th><th>float64</th><th>int32</th><th>object</th><th>float64</th><th>str1</th><th>str1</th><th>object</th><th>str5</th><th>int32</th><th>float64</th><th>object</th><th>int32</th><th>str1</th><th>str1</th><th>int32</th><th>str4</th><th>str1</th><th>str1</th><th>str4</th><th>int32</th><th>str1</th><th>str19</th><th>str19</th><th>object</th><th>int32</th><th>object</th><th>int32</th><th>str4</th><th>object</th><th>str5</th><th>str1</th><th>str1</th><th>object</th><th>float64</th><th>float64</th><th>str19</th><th>int32</th><th>str1</th><th>str4</th><th>str12</th><th>str1</th><th>object</th><th>object</th><th>str1</th><th>str1</th><th>object</th><th>str1</th><th>str19</th><th>object</th><th>str66</th><th>str1</th><th>str1</th><th>object</th></tr></thead>\n",
       "<tr><td>http://sdowww.lmsal.com/sdomedia/ssw/media/ssw/ssw_client/data/ssw_service_170401_154905_27038/www/ssw_cutout_193_context_thumb.gif</td><td>0</td><td>POLYGON((16.819845 125.693538,16.819845 125.693538,16.819845 125.693538,16.819845 125.693538,16.819845 125.693538))</td><td>false</td><td>POINT(60.1826794 13)</td><td>UTC-HGS-TOPO</td><td>None</td><td>POINT(758.23662 277.292802)</td><td>None</td><td>http://sdowww.lmsal.com/sdomedia/ssw/media/ssw/ssw_client/data/ssw_service_170401_154905_27038/www/ssw_cutout_193_context_full.gif</td><td>None</td><td>AIA20170401_213500_0094.fits,AIA20170401_214902_0094.fits</td><td>POINT(0.841471540472867 290.087844030445)</td><td>2017-04-01T21:35:00</td><td></td><td>FL</td><td>None</td><td>None</td><td>9.4e-07</td><td>http://sohowww.nascom.nasa.gov/solarsoft/packages/gevloc/idl/ssw_flare_locator.pro</td><td></td><td></td><td>false</td><td></td><td>true</td><td>None</td><td>None</td><td></td><td></td><td>None</td><td></td><td>01030000000100000005000000D5FF39CC179585404F93196F2B366A40D5FF39CC17958540DAFCBFEA488E75406F99D365B1CE8940DAFCBFEA488E75406F99D365B1CE89404F93196F2B366A40D5FF39CC179585404F93196F2B366A40</td><td>POLYGON((7.182679 1,7.182679 1,7.182679 1,7.182679 1,7.182679 1))</td><td>None</td><td></td><td>EUV</td><td></td><td></td><td>SOL2017-04-01T21:35:00L060C077</td><td>None</td><td>9</td><td></td><td></td><td></td><td>Samuel L. Freeland</td><td></td><td>None</td><td>None</td><td>SSW Latest Events</td><td>None</td><td>SolarSoft</td><td>SDO</td><td></td><td>14.0</td><td></td><td>12.0</td><td>LMSAL</td><td>POLYGON((0.132174 352.378169,0.132174 352.378169,0.132174 352.378169,0.132174 352.378169,0.132174 352.378169))</td><td></td><td></td><td></td><td>None</td><td>http://sdowww.lmsal.com/sdomedia/ssw/media/ssw/ssw_client/data/ssw_service_170401_154905_27038/www/</td><td>0.687999999999999945</td><td>None</td><td>None</td><td>None</td><td></td><td></td><td></td><td>1</td><td>None</td><td>2017-04-02T00:00:00</td><td>degrees</td><td>277.292802</td><td>758.23662</td><td>AIA</td><td>None</td><td>2017-08-30T23:34:21</td><td>freeland_samuel</td><td>None</td><td>0</td><td></td><td>None</td><td></td><td></td><td>cm</td><td>ivo://helio-informatics.org/FL_SSWLatestEvents_20170401_155330_778</td><td>SSW Latest Events</td><td>55.0</td><td>2644</td><td>None</td><td>53.0</td><td></td><td></td><td>None</td><td>false</td><td>0</td><td>0.841471540472867</td><td>None</td><td>13</td><td></td><td></td><td>54</td><td>true</td><td></td><td></td><td>AIA</td><td>0</td><td>4</td><td>807.350029386285087</td><td>2017-04-01T22:05:00</td><td>None</td><td>13</td><td>None</td><td>54</td><td>SDO</td><td>None</td><td>Flare</td><td></td><td></td><td>None</td><td>60.1826794</td><td>290.087844030445</td><td>2017-04-01T21:48:00</td><td>13</td><td></td><td>M4.4</td><td>POINT(54 13)</td><td></td><td>None</td><td>None</td><td></td><td></td><td>None</td><td></td><td>131,171,193,211,304</td><td>None</td><td>POLYGON((1 1,1 1,1 1,1 1,1 1))</td><td></td><td></td><td>[{&apos;ref_name&apos;: &apos;FRM_URL&apos;, &apos;ref_type&apos;: &apos;unknown&apos;, &apos;ref_url&apos;: &apos;http://sohowww.nascom.nasa.gov/solarsoft/packages/gevloc/idl/ssw_flare_locator.pro&apos;}, {&apos;ref_name&apos;: &apos;Event-Summary&apos;, &apos;ref_type&apos;: &apos;html&apos;, &apos;ref_url&apos;: &apos;http://www.lmsal.com/solarsoft/latest_events_archive/events_summary/2017/04/01/gev_20170401_2135/index.html&apos;}, {&apos;ref_name&apos;: &apos;Event-Detection(diff)&apos;, &apos;ref_type&apos;: &apos;image&apos;, &apos;ref_url&apos;: &apos;http://www.lmsal.com/solarsoft/latest_events_archive/events_summary/2017/04/01/gev_20170401_2135/gev_20170401_2135.png&apos;}, {&apos;ref_name&apos;: &apos;Event-Context&apos;, &apos;ref_type&apos;: &apos;html&apos;, &apos;ref_url&apos;: &apos;http://www.lmsal.com/solarsoft/latest_events_archive/events_summary/2017/04/01/&apos;}, {&apos;ref_name&apos;: &apos;SDO/AIA Movies&apos;, &apos;ref_type&apos;: &apos;html&apos;, &apos;ref_url&apos;: &apos;http://sdowww.lmsal.com/sdomedia/ssw/media/ssw/ssw_client/data/ssw_service_170401_154905_27038/www/&apos;}, {&apos;ref_name&apos;: &apos;SSW Context Image&apos;, &apos;ref_type&apos;: &apos;image&apos;, &apos;ref_url&apos;: &apos;http://sdowww.lmsal.com/sdomedia/ssw/media/ssw/ssw_client/data/ssw_service_170401_154905_27038/www/ssw_cutout_193_context_full.gif&apos;}, {&apos;ref_name&apos;: &apos;SSW Context Thumbnail&apos;, &apos;ref_type&apos;: &apos;thumbnail&apos;, &apos;ref_url&apos;: &apos;http://sdowww.lmsal.com/sdomedia/ssw/media/ssw/ssw_client/data/ssw_service_170401_154905_27038/www/ssw_cutout_193_context_thumb.gif&apos;}, {&apos;ref_name&apos;: &apos;PreviousSSWMovieUrl&apos;, &apos;ref_type&apos;: &apos;html&apos;, &apos;ref_url&apos;: &apos;http://sdowww.lmsal.com/sdomedia/ssw/media/ssw/ssw_client/data/ssw_service_170331_154855_3839/www/&apos;}]</td></tr>\n",
       "<tr><td></td><td>0</td><td>POLYGON((-1.675256 -953.79462,1.675256 -953.79462,1.673659 952.79232,-1.673659 952.79232,-1.675256 -953.79462))</td><td>false</td><td>POINT(6.1826794 0)</td><td>UTC-HGS-TOPO</td><td>None</td><td>POINT(0 109.01343)</td><td>None</td><td></td><td>None</td><td>SSWIDL get_gev, ..., ngdc=0</td><td>POINT(0.113620728971871 0)</td><td>2017-04-01T21:35:00</td><td></td><td>FL</td><td>None</td><td>None</td><td>5e-08</td><td>http://www.swpc.noaa.gov/</td><td></td><td></td><td>true</td><td></td><td>true</td><td>None</td><td>None</td><td></td><td></td><td>None</td><td></td><td></td><td>POLYGON((-83.717321 -89.9,96.082679 -89.9,96.082679 89.9,-83.717321 89.9,-83.717321 -89.9))</td><td>None</td><td></td><td>XRA</td><td></td><td></td><td>SOL2017-04-01T21:35:00L006C090</td><td>None</td><td>9</td><td></td><td></td><td></td><td>SWPC.Webmaster@noaa.gov</td><td></td><td>None</td><td>None</td><td>SWPC</td><td>None</td><td>SWPC</td><td>GOES</td><td></td><td>89.9000015258789</td><td></td><td>-89.9000015258789</td><td>U.S. Dept. of Commerce, NOAA, Space Weather Prediction Center</td><td>POLYGON((0.994107 179.899365,0.994107 180.100635,0.993062 359.899355,0.993062 0.100645,0.994107 179.899365))</td><td></td><td></td><td></td><td>None</td><td></td><td>0.687999999999999945</td><td>None</td><td>None</td><td>None</td><td></td><td></td><td></td><td>None</td><td>None</td><td>2017-04-01T00:00:00</td><td>degrees</td><td>109.01343</td><td>0.0</td><td>GOES</td><td>None</td><td>2017-04-02T02:36:11</td><td>cheung_mark</td><td>None</td><td>0</td><td></td><td>None</td><td></td><td></td><td>cm</td><td>ivo://helio-informatics.org/FL_SWPC_20170402_023609_20170401213500</td><td>SWPC</td><td>89.9000015258789</td><td>12644</td><td>None</td><td>-89.9000015258789</td><td></td><td></td><td>None</td><td>false</td><td>90</td><td>0.113620728971871</td><td>None</td><td>0</td><td></td><td></td><td>0</td><td>true</td><td></td><td></td><td>GOES</td><td>90</td><td>1</td><td>109.01343</td><td>2017-04-01T22:05:00</td><td>None</td><td>0</td><td>None</td><td>0</td><td>GOES</td><td>None</td><td>Flare</td><td></td><td></td><td>None</td><td>6.1826794</td><td>0.0</td><td>2017-04-01T21:48:00</td><td>0</td><td></td><td>M4.4</td><td>POINT(0 0)</td><td></td><td>None</td><td>None</td><td></td><td></td><td>None</td><td></td><td>XRA</td><td>None</td><td>POLYGON((-89.9 -89.9,89.9 -89.9,89.9 89.9,-89.9 89.9,-89.9 -89.9))</td><td></td><td></td><td>[{&apos;ref_name&apos;: &apos;FRM_URL&apos;, &apos;ref_type&apos;: &apos;unknown&apos;, &apos;ref_url&apos;: &apos;http://www.swpc.noaa.gov/&apos;}]</td></tr>\n",
       "</table></div></br>"
      ],
      "text/plain": [
       "<sunpy.net.fido_factory.UnifiedResponse object at 0x0000014EC9EC2A90>\n",
       "Results from 1 Provider:\n",
       "\n",
       "2 Results from the HEKClient:\n",
       "                                                            gs_thumburl                                                             ...\n",
       "----------------------------------------------------------------------------------------------------------------------------------- ...\n",
       "http://sdowww.lmsal.com/sdomedia/ssw/media/ssw/ssw_client/data/ssw_service_170401_154905_27038/www/ssw_cutout_193_context_thumb.gif ...\n",
       "                                                                                                                                    ...\n"
      ]
     },
     "execution_count": 76,
     "metadata": {},
     "output_type": "execute_result"
    }
   ],
   "source": [
    "#Pick an already downloaded datacube to analyze\n",
    "\n",
    "#Copy the file name here:\n",
    "filename = 'datacube_2017-04-01T211500_200_200_7_50.fits'\n",
    "\n",
    "#Find the start date of the flare and write it in, add one day for the end day\n",
    "startday = '2017-04-01'\n",
    "endday = '2017-04-02'\n",
    "results = Fido.search(a.Time(startday, endday), a.hek.FL, a.hek.FL.GOESCls > \"M1.0\")\n",
    "results.show()"
   ]
  },
  {
   "cell_type": "code",
   "execution_count": 77,
   "id": "d8bf1f59",
   "metadata": {},
   "outputs": [
    {
     "name": "stdout",
     "output_type": "stream",
     "text": [
      "   event_peaktime  \n",
      "-------------------\n",
      "2017-04-01T21:48:00\n",
      "2017-04-01T21:48:00\n",
      "fl_goescls\n",
      "----------\n",
      "      M4.4\n",
      "      M4.4\n"
     ]
    }
   ],
   "source": [
    "#View flares during the time period and find the correct one\n",
    "hek_results = results['hek']\n",
    "print(hek_results[\"event_peaktime\"])\n",
    "print(hek_results[\"fl_goescls\"])"
   ]
  },
  {
   "cell_type": "code",
   "execution_count": 78,
   "id": "95996280",
   "metadata": {},
   "outputs": [
    {
     "name": "stdout",
     "output_type": "stream",
     "text": [
      "Flare Start: 2017-04-01 21:35:00\n",
      "Flare Peak: 2017-04-01 21:48:00\n",
      "Flare End: 2017-04-01 22:05:00\n",
      "Flare Duration: 0:30:00\n"
     ]
    }
   ],
   "source": [
    "#Select the corresponding flare\n",
    "my_flare = hek_results[0]\n",
    "\n",
    "flarestart = datetime.datetime.strptime(my_flare['event_starttime'], \"%Y-%m-%dT%H:%M:%S\")\n",
    "flarepeak = datetime.datetime.strptime(my_flare['event_peaktime'], \"%Y-%m-%dT%H:%M:%S\")\n",
    "flareend = datetime.datetime.strptime(my_flare['event_endtime'], \"%Y-%m-%dT%H:%M:%S\")\n",
    "duration = flareend - flarestart\n",
    "\n",
    "print('Flare Start:', flarestart)\n",
    "print('Flare Peak:', flarepeak)\n",
    "print('Flare End:', flareend)\n",
    "print('Flare Duration:', duration)"
   ]
  },
  {
   "cell_type": "markdown",
   "id": "c2ede4bc",
   "metadata": {},
   "source": [
    "# Loading a Datacube"
   ]
  },
  {
   "cell_type": "code",
   "execution_count": 79,
   "id": "bead89bf",
   "metadata": {},
   "outputs": [
    {
     "name": "stdout",
     "output_type": "stream",
     "text": [
      "[13 13 11 10 12 11 12 15 15 16 14 16 16 21 17 15 14 11  6  7 11  9  9  4\n",
      "  6  9  6 13  5 11 16 15 15 22 15 25 29 20 19 18 18 16 16 18 19 19 18 11\n",
      "  9 14  8 13 16 14  9 18 13 14 16 22 17 18 16 11 13  9 13 12 11 11 15 12\n",
      " 10 10 13 15 13 11 20 20 14 18 14 15 15 17 19 20 20 21 26 27 25 27 26 23\n",
      " 24 25 22 29 32 30 27 19 12 10 14 15 14 10 10 12 13 10 11  9  9 10 11 10\n",
      " 11 11  9 10 15 31 25 21 14 11  9 10  9 10 10  9 11 10 15 19 15  9  7  8\n",
      " 10  8  9  6  7  8  8  6 10 11  8  7  7 11 10 11 13 11 13 17 15 18 20 16\n",
      " 12 13 10 11 14 14 13 13 18 13 15 16  9 12 18 23 22 18 14 11 13 13  9 10\n",
      "  8  4  8  7  8  9  9  8]\n"
     ]
    }
   ],
   "source": [
    "#Function to load the datacube\n",
    "def load_datacube(filename):    \n",
    "    return astropy.io.fits.getdata(filename)\n",
    "\n",
    "#Loading datacube from specific file\n",
    "data = load_datacube('C:/Users/hharn/Desktop/PHYS 299/TDA Datacubes/datacubes/' + filename) \n",
    "\n",
    "#The array data is organized by [t,λ,x,y]\n",
    "print(data[:,0,0,0])"
   ]
  },
  {
   "cell_type": "markdown",
   "id": "9cf5c1bc",
   "metadata": {},
   "source": [
    "# Graphing Intensity as Time Series"
   ]
  },
  {
   "cell_type": "code",
   "execution_count": 81,
   "id": "13357cae",
   "metadata": {},
   "outputs": [
    {
     "data": {
      "image/png": "[encoded data removed]",
      "text/plain": [
       "<Figure size 576x576 with 1 Axes>"
      ]
     },
     "metadata": {
      "needs_background": "light"
     },
     "output_type": "display_data"
    }
   ],
   "source": [
    "import matplotlib.pyplot as plt\n",
    "\n",
    "#Creating list for time and wavelength\n",
    "t = []\n",
    "i = flarestart\n",
    "for k in range(0,len(data[:,0,0,0])):\n",
    "    i = i + duration/len(data[:,0,0,0])\n",
    "    t.append(i)\n",
    "\n",
    "wavelengths = ['304 Å', '131 Å', '171 Å', '193 Å', '211 Å', '335 Å', '094 Å']\n",
    "    \n",
    "#This plots all 7 graphs at once, without labels to distinguish them yet\n",
    "for z in range(0,7):\n",
    "    name = 'λ = ' + wavelengths[z]\n",
    "    plt.plot(t,data[:,z,0,0], label = name)\n",
    "    plt.legend()\n",
    "    plt.title('Intensity Time Series for Flare Event')\n",
    "\n",
    "#This plots just one wavelength\n",
    "#plt.plot(t,data[:,0,0,0])\n",
    "\n",
    "plt.axvline(x = flarepeak, color = 'black')\n",
    "plt.xlabel('Time Stamp (Day Hour:Minute)')\n",
    "plt.ylabel('Intensity (Å)')\n",
    "plt.title('Intensity Time Series')\n",
    "plt.show()"
   ]
  },
  {
   "cell_type": "markdown",
   "id": "0dae5337",
   "metadata": {},
   "source": [
    "# Topological Data Analysis"
   ]
  },
  {
   "cell_type": "code",
   "execution_count": 82,
   "id": "7684218e",
   "metadata": {},
   "outputs": [
    {
     "data": {
      "application/vnd.plotly.v1+json": {
       "config": {
        "plotlyServerURL": "https://plot.ly"
       },
       "data": [
        {
         "type": "scatter",
         "x": [
          "2017-04-01T21:35:09",
          "2017-04-01T21:35:18",
          "2017-04-01T21:35:27",
          "2017-04-01T21:35:36",
          "2017-04-01T21:35:45",
          "2017-04-01T21:35:54",
          "2017-04-01T21:36:03",
          "2017-04-01T21:36:12",
          "2017-04-01T21:36:21",
          "2017-04-01T21:36:30",
          "2017-04-01T21:36:39",
          "2017-04-01T21:36:48",
          "2017-04-01T21:36:57",
          "2017-04-01T21:37:06",
          "2017-04-01T21:37:15",
          "2017-04-01T21:37:24",
          "2017-04-01T21:37:33",
          "2017-04-01T21:37:42",
          "2017-04-01T21:37:51",
          "2017-04-01T21:38:00",
          "2017-04-01T21:38:09",
          "2017-04-01T21:38:18",
          "2017-04-01T21:38:27",
          "2017-04-01T21:38:36",
          "2017-04-01T21:38:45",
          "2017-04-01T21:38:54",
          "2017-04-01T21:39:03",
          "2017-04-01T21:39:12",
          "2017-04-01T21:39:21",
          "2017-04-01T21:39:30",
          "2017-04-01T21:39:39",
          "2017-04-01T21:39:48",
          "2017-04-01T21:39:57",
          "2017-04-01T21:40:06",
          "2017-04-01T21:40:15",
          "2017-04-01T21:40:24",
          "2017-04-01T21:40:33",
          "2017-04-01T21:40:42",
          "2017-04-01T21:40:51",
          "2017-04-01T21:41:00",
          "2017-04-01T21:41:09",
          "2017-04-01T21:41:18",
          "2017-04-01T21:41:27",
          "2017-04-01T21:41:36",
          "2017-04-01T21:41:45",
          "2017-04-01T21:41:54",
          "2017-04-01T21:42:03",
          "2017-04-01T21:42:12",
          "2017-04-01T21:42:21",
          "2017-04-01T21:42:30",
          "2017-04-01T21:42:39",
          "2017-04-01T21:42:48",
          "2017-04-01T21:42:57",
          "2017-04-01T21:43:06",
          "2017-04-01T21:43:15",
          "2017-04-01T21:43:24",
          "2017-04-01T21:43:33",
          "2017-04-01T21:43:42",
          "2017-04-01T21:43:51",
          "2017-04-01T21:44:00",
          "2017-04-01T21:44:09",
          "2017-04-01T21:44:18",
          "2017-04-01T21:44:27",
          "2017-04-01T21:44:36",
          "2017-04-01T21:44:45",
          "2017-04-01T21:44:54",
          "2017-04-01T21:45:03",
          "2017-04-01T21:45:12",
          "2017-04-01T21:45:21",
          "2017-04-01T21:45:30",
          "2017-04-01T21:45:39",
          "2017-04-01T21:45:48",
          "2017-04-01T21:45:57",
          "2017-04-01T21:46:06",
          "2017-04-01T21:46:15",
          "2017-04-01T21:46:24",
          "2017-04-01T21:46:33",
          "2017-04-01T21:46:42",
          "2017-04-01T21:46:51",
          "2017-04-01T21:47:00",
          "2017-04-01T21:47:09",
          "2017-04-01T21:47:18",
          "2017-04-01T21:47:27",
          "2017-04-01T21:47:36",
          "2017-04-01T21:47:45",
          "2017-04-01T21:47:54",
          "2017-04-01T21:48:03",
          "2017-04-01T21:48:12",
          "2017-04-01T21:48:21",
          "2017-04-01T21:48:30",
          "2017-04-01T21:48:39",
          "2017-04-01T21:48:48",
          "2017-04-01T21:48:57",
          "2017-04-01T21:49:06",
          "2017-04-01T21:49:15",
          "2017-04-01T21:49:24",
          "2017-04-01T21:49:33",
          "2017-04-01T21:49:42",
          "2017-04-01T21:49:51",
          "2017-04-01T21:50:00",
          "2017-04-01T21:50:09",
          "2017-04-01T21:50:18",
          "2017-04-01T21:50:27",
          "2017-04-01T21:50:36",
          "2017-04-01T21:50:45",
          "2017-04-01T21:50:54",
          "2017-04-01T21:51:03",
          "2017-04-01T21:51:12",
          "2017-04-01T21:51:21",
          "2017-04-01T21:51:30",
          "2017-04-01T21:51:39",
          "2017-04-01T21:51:48",
          "2017-04-01T21:51:57",
          "2017-04-01T21:52:06",
          "2017-04-01T21:52:15",
          "2017-04-01T21:52:24",
          "2017-04-01T21:52:33",
          "2017-04-01T21:52:42",
          "2017-04-01T21:52:51",
          "2017-04-01T21:53:00",
          "2017-04-01T21:53:09",
          "2017-04-01T21:53:18",
          "2017-04-01T21:53:27",
          "2017-04-01T21:53:36",
          "2017-04-01T21:53:45",
          "2017-04-01T21:53:54",
          "2017-04-01T21:54:03",
          "2017-04-01T21:54:12",
          "2017-04-01T21:54:21",
          "2017-04-01T21:54:30",
          "2017-04-01T21:54:39",
          "2017-04-01T21:54:48",
          "2017-04-01T21:54:57",
          "2017-04-01T21:55:06",
          "2017-04-01T21:55:15",
          "2017-04-01T21:55:24",
          "2017-04-01T21:55:33",
          "2017-04-01T21:55:42",
          "2017-04-01T21:55:51",
          "2017-04-01T21:56:00",
          "2017-04-01T21:56:09",
          "2017-04-01T21:56:18",
          "2017-04-01T21:56:27",
          "2017-04-01T21:56:36",
          "2017-04-01T21:56:45",
          "2017-04-01T21:56:54",
          "2017-04-01T21:57:03",
          "2017-04-01T21:57:12",
          "2017-04-01T21:57:21",
          "2017-04-01T21:57:30",
          "2017-04-01T21:57:39",
          "2017-04-01T21:57:48",
          "2017-04-01T21:57:57",
          "2017-04-01T21:58:06",
          "2017-04-01T21:58:15",
          "2017-04-01T21:58:24",
          "2017-04-01T21:58:33",
          "2017-04-01T21:58:42",
          "2017-04-01T21:58:51",
          "2017-04-01T21:59:00",
          "2017-04-01T21:59:09",
          "2017-04-01T21:59:18",
          "2017-04-01T21:59:27",
          "2017-04-01T21:59:36",
          "2017-04-01T21:59:45",
          "2017-04-01T21:59:54",
          "2017-04-01T22:00:03",
          "2017-04-01T22:00:12",
          "2017-04-01T22:00:21",
          "2017-04-01T22:00:30",
          "2017-04-01T22:00:39",
          "2017-04-01T22:00:48",
          "2017-04-01T22:00:57",
          "2017-04-01T22:01:06",
          "2017-04-01T22:01:15",
          "2017-04-01T22:01:24",
          "2017-04-01T22:01:33",
          "2017-04-01T22:01:42",
          "2017-04-01T22:01:51",
          "2017-04-01T22:02:00",
          "2017-04-01T22:02:09",
          "2017-04-01T22:02:18",
          "2017-04-01T22:02:27",
          "2017-04-01T22:02:36",
          "2017-04-01T22:02:45",
          "2017-04-01T22:02:54",
          "2017-04-01T22:03:03",
          "2017-04-01T22:03:12",
          "2017-04-01T22:03:21",
          "2017-04-01T22:03:30",
          "2017-04-01T22:03:39",
          "2017-04-01T22:03:48",
          "2017-04-01T22:03:57",
          "2017-04-01T22:04:06",
          "2017-04-01T22:04:15",
          "2017-04-01T22:04:24",
          "2017-04-01T22:04:33",
          "2017-04-01T22:04:42",
          "2017-04-01T22:04:51",
          "2017-04-01T22:05:00"
         ],
         "y": [
          13,
          13,
          11,
          10,
          12,
          11,
          12,
          15,
          15,
          16,
          14,
          16,
          16,
          21,
          17,
          15,
          14,
          11,
          6,
          7,
          11,
          9,
          9,
          4,
          6,
          9,
          6,
          13,
          5,
          11,
          16,
          15,
          15,
          22,
          15,
          25,
          29,
          20,
          19,
          18,
          18,
          16,
          16,
          18,
          19,
          19,
          18,
          11,
          9,
          14,
          8,
          13,
          16,
          14,
          9,
          18,
          13,
          14,
          16,
          22,
          17,
          18,
          16,
          11,
          13,
          9,
          13,
          12,
          11,
          11,
          15,
          12,
          10,
          10,
          13,
          15,
          13,
          11,
          20,
          20,
          14,
          18,
          14,
          15,
          15,
          17,
          19,
          20,
          20,
          21,
          26,
          27,
          25,
          27,
          26,
          23,
          24,
          25,
          22,
          29,
          32,
          30,
          27,
          19,
          12,
          10,
          14,
          15,
          14,
          10,
          10,
          12,
          13,
          10,
          11,
          9,
          9,
          10,
          11,
          10,
          11,
          11,
          9,
          10,
          15,
          31,
          25,
          21,
          14,
          11,
          9,
          10,
          9,
          10,
          10,
          9,
          11,
          10,
          15,
          19,
          15,
          9,
          7,
          8,
          10,
          8,
          9,
          6,
          7,
          8,
          8,
          6,
          10,
          11,
          8,
          7,
          7,
          11,
          10,
          11,
          13,
          11,
          13,
          17,
          15,
          18,
          20,
          16,
          12,
          13,
          10,
          11,
          14,
          14,
          13,
          13,
          18,
          13,
          15,
          16,
          9,
          12,
          18,
          23,
          22,
          18,
          14,
          11,
          13,
          13,
          9,
          10,
          8,
          4,
          8,
          7,
          8,
          9,
          9,
          8
         ]
        }
       ],
       "layout": {
        "template": {
         "data": {
          "bar": [
           {
            "error_x": {
             "color": "#2a3f5f"
            },
            "error_y": {
             "color": "#2a3f5f"
            },
            "marker": {
             "line": {
              "color": "#E5ECF6",
              "width": 0.5
             },
             "pattern": {
              "fillmode": "overlay",
              "size": 10,
              "solidity": 0.2
             }
            },
            "type": "bar"
           }
          ],
          "barpolar": [
           {
            "marker": {
             "line": {
              "color": "#E5ECF6",
              "width": 0.5
             },
             "pattern": {
              "fillmode": "overlay",
              "size": 10,
              "solidity": 0.2
             }
            },
            "type": "barpolar"
           }
          ],
          "carpet": [
           {
            "aaxis": {
             "endlinecolor": "#2a3f5f",
             "gridcolor": "white",
             "linecolor": "white",
             "minorgridcolor": "white",
             "startlinecolor": "#2a3f5f"
            },
            "baxis": {
             "endlinecolor": "#2a3f5f",
             "gridcolor": "white",
             "linecolor": "white",
             "minorgridcolor": "white",
             "startlinecolor": "#2a3f5f"
            },
            "type": "carpet"
           }
          ],
          "choropleth": [
           {
            "colorbar": {
             "outlinewidth": 0,
             "ticks": ""
            },
            "type": "choropleth"
           }
          ],
          "contour": [
           {
            "colorbar": {
             "outlinewidth": 0,
             "ticks": ""
            },
            "colorscale": [
             [
              0,
              "#0d0887"
             ],
             [
              0.1111111111111111,
              "#46039f"
             ],
             [
              0.2222222222222222,
              "#7201a8"
             ],
             [
              0.3333333333333333,
              "#9c179e"
             ],
             [
              0.4444444444444444,
              "#bd3786"
             ],
             [
              0.5555555555555556,
              "#d8576b"
             ],
             [
              0.6666666666666666,
              "#ed7953"
             ],
             [
              0.7777777777777778,
              "#fb9f3a"
             ],
             [
              0.8888888888888888,
              "#fdca26"
             ],
             [
              1,
              "#f0f921"
             ]
            ],
            "type": "contour"
           }
          ],
          "contourcarpet": [
           {
            "colorbar": {
             "outlinewidth": 0,
             "ticks": ""
            },
            "type": "contourcarpet"
           }
          ],
          "heatmap": [
           {
            "colorbar": {
             "outlinewidth": 0,
             "ticks": ""
            },
            "colorscale": [
             [
              0,
              "#0d0887"
             ],
             [
              0.1111111111111111,
              "#46039f"
             ],
             [
              0.2222222222222222,
              "#7201a8"
             ],
             [
              0.3333333333333333,
              "#9c179e"
             ],
             [
              0.4444444444444444,
              "#bd3786"
             ],
             [
              0.5555555555555556,
              "#d8576b"
             ],
             [
              0.6666666666666666,
              "#ed7953"
             ],
             [
              0.7777777777777778,
              "#fb9f3a"
             ],
             [
              0.8888888888888888,
              "#fdca26"
             ],
             [
              1,
              "#f0f921"
             ]
            ],
            "type": "heatmap"
           }
          ],
          "heatmapgl": [
           {
            "colorbar": {
             "outlinewidth": 0,
             "ticks": ""
            },
            "colorscale": [
             [
              0,
              "#0d0887"
             ],
             [
              0.1111111111111111,
              "#46039f"
             ],
             [
              0.2222222222222222,
              "#7201a8"
             ],
             [
              0.3333333333333333,
              "#9c179e"
             ],
             [
              0.4444444444444444,
              "#bd3786"
             ],
             [
              0.5555555555555556,
              "#d8576b"
             ],
             [
              0.6666666666666666,
              "#ed7953"
             ],
             [
              0.7777777777777778,
              "#fb9f3a"
             ],
             [
              0.8888888888888888,
              "#fdca26"
             ],
             [
              1,
              "#f0f921"
             ]
            ],
            "type": "heatmapgl"
           }
          ],
          "histogram": [
           {
            "marker": {
             "pattern": {
              "fillmode": "overlay",
              "size": 10,
              "solidity": 0.2
             }
            },
            "type": "histogram"
           }
          ],
          "histogram2d": [
           {
            "colorbar": {
             "outlinewidth": 0,
             "ticks": ""
            },
            "colorscale": [
             [
              0,
              "#0d0887"
             ],
             [
              0.1111111111111111,
              "#46039f"
             ],
             [
              0.2222222222222222,
              "#7201a8"
             ],
             [
              0.3333333333333333,
              "#9c179e"
             ],
             [
              0.4444444444444444,
              "#bd3786"
             ],
             [
              0.5555555555555556,
              "#d8576b"
             ],
             [
              0.6666666666666666,
              "#ed7953"
             ],
             [
              0.7777777777777778,
              "#fb9f3a"
             ],
             [
              0.8888888888888888,
              "#fdca26"
             ],
             [
              1,
              "#f0f921"
             ]
            ],
            "type": "histogram2d"
           }
          ],
          "histogram2dcontour": [
           {
            "colorbar": {
             "outlinewidth": 0,
             "ticks": ""
            },
            "colorscale": [
             [
              0,
              "#0d0887"
             ],
             [
              0.1111111111111111,
              "#46039f"
             ],
             [
              0.2222222222222222,
              "#7201a8"
             ],
             [
              0.3333333333333333,
              "#9c179e"
             ],
             [
              0.4444444444444444,
              "#bd3786"
             ],
             [
              0.5555555555555556,
              "#d8576b"
             ],
             [
              0.6666666666666666,
              "#ed7953"
             ],
             [
              0.7777777777777778,
              "#fb9f3a"
             ],
             [
              0.8888888888888888,
              "#fdca26"
             ],
             [
              1,
              "#f0f921"
             ]
            ],
            "type": "histogram2dcontour"
           }
          ],
          "mesh3d": [
           {
            "colorbar": {
             "outlinewidth": 0,
             "ticks": ""
            },
            "type": "mesh3d"
           }
          ],
          "parcoords": [
           {
            "line": {
             "colorbar": {
              "outlinewidth": 0,
              "ticks": ""
             }
            },
            "type": "parcoords"
           }
          ],
          "pie": [
           {
            "automargin": true,
            "type": "pie"
           }
          ],
          "scatter": [
           {
            "marker": {
             "colorbar": {
              "outlinewidth": 0,
              "ticks": ""
             }
            },
            "type": "scatter"
           }
          ],
          "scatter3d": [
           {
            "line": {
             "colorbar": {
              "outlinewidth": 0,
              "ticks": ""
             }
            },
            "marker": {
             "colorbar": {
              "outlinewidth": 0,
              "ticks": ""
             }
            },
            "type": "scatter3d"
           }
          ],
          "scattercarpet": [
           {
            "marker": {
             "colorbar": {
              "outlinewidth": 0,
              "ticks": ""
             }
            },
            "type": "scattercarpet"
           }
          ],
          "scattergeo": [
           {
            "marker": {
             "colorbar": {
              "outlinewidth": 0,
              "ticks": ""
             }
            },
            "type": "scattergeo"
           }
          ],
          "scattergl": [
           {
            "marker": {
             "colorbar": {
              "outlinewidth": 0,
              "ticks": ""
             }
            },
            "type": "scattergl"
           }
          ],
          "scattermapbox": [
           {
            "marker": {
             "colorbar": {
              "outlinewidth": 0,
              "ticks": ""
             }
            },
            "type": "scattermapbox"
           }
          ],
          "scatterpolar": [
           {
            "marker": {
             "colorbar": {
              "outlinewidth": 0,
              "ticks": ""
             }
            },
            "type": "scatterpolar"
           }
          ],
          "scatterpolargl": [
           {
            "marker": {
             "colorbar": {
              "outlinewidth": 0,
              "ticks": ""
             }
            },
            "type": "scatterpolargl"
           }
          ],
          "scatterternary": [
           {
            "marker": {
             "colorbar": {
              "outlinewidth": 0,
              "ticks": ""
             }
            },
            "type": "scatterternary"
           }
          ],
          "surface": [
           {
            "colorbar": {
             "outlinewidth": 0,
             "ticks": ""
            },
            "colorscale": [
             [
              0,
              "#0d0887"
             ],
             [
              0.1111111111111111,
              "#46039f"
             ],
             [
              0.2222222222222222,
              "#7201a8"
             ],
             [
              0.3333333333333333,
              "#9c179e"
             ],
             [
              0.4444444444444444,
              "#bd3786"
             ],
             [
              0.5555555555555556,
              "#d8576b"
             ],
             [
              0.6666666666666666,
              "#ed7953"
             ],
             [
              0.7777777777777778,
              "#fb9f3a"
             ],
             [
              0.8888888888888888,
              "#fdca26"
             ],
             [
              1,
              "#f0f921"
             ]
            ],
            "type": "surface"
           }
          ],
          "table": [
           {
            "cells": {
             "fill": {
              "color": "#EBF0F8"
             },
             "line": {
              "color": "white"
             }
            },
            "header": {
             "fill": {
              "color": "#C8D4E3"
             },
             "line": {
              "color": "white"
             }
            },
            "type": "table"
           }
          ]
         },
         "layout": {
          "annotationdefaults": {
           "arrowcolor": "#2a3f5f",
           "arrowhead": 0,
           "arrowwidth": 1
          },
          "autotypenumbers": "strict",
          "coloraxis": {
           "colorbar": {
            "outlinewidth": 0,
            "ticks": ""
           }
          },
          "colorscale": {
           "diverging": [
            [
             0,
             "#8e0152"
            ],
            [
             0.1,
             "#c51b7d"
            ],
            [
             0.2,
             "#de77ae"
            ],
            [
             0.3,
             "#f1b6da"
            ],
            [
             0.4,
             "#fde0ef"
            ],
            [
             0.5,
             "#f7f7f7"
            ],
            [
             0.6,
             "#e6f5d0"
            ],
            [
             0.7,
             "#b8e186"
            ],
            [
             0.8,
             "#7fbc41"
            ],
            [
             0.9,
             "#4d9221"
            ],
            [
             1,
             "#276419"
            ]
           ],
           "sequential": [
            [
             0,
             "#0d0887"
            ],
            [
             0.1111111111111111,
             "#46039f"
            ],
            [
             0.2222222222222222,
             "#7201a8"
            ],
            [
             0.3333333333333333,
             "#9c179e"
            ],
            [
             0.4444444444444444,
             "#bd3786"
            ],
            [
             0.5555555555555556,
             "#d8576b"
            ],
            [
             0.6666666666666666,
             "#ed7953"
            ],
            [
             0.7777777777777778,
             "#fb9f3a"
            ],
            [
             0.8888888888888888,
             "#fdca26"
            ],
            [
             1,
             "#f0f921"
            ]
           ],
           "sequentialminus": [
            [
             0,
             "#0d0887"
            ],
            [
             0.1111111111111111,
             "#46039f"
            ],
            [
             0.2222222222222222,
             "#7201a8"
            ],
            [
             0.3333333333333333,
             "#9c179e"
            ],
            [
             0.4444444444444444,
             "#bd3786"
            ],
            [
             0.5555555555555556,
             "#d8576b"
            ],
            [
             0.6666666666666666,
             "#ed7953"
            ],
            [
             0.7777777777777778,
             "#fb9f3a"
            ],
            [
             0.8888888888888888,
             "#fdca26"
            ],
            [
             1,
             "#f0f921"
            ]
           ]
          },
          "colorway": [
           "#636efa",
           "#EF553B",
           "#00cc96",
           "#ab63fa",
           "#FFA15A",
           "#19d3f3",
           "#FF6692",
           "#B6E880",
           "#FF97FF",
           "#FECB52"
          ],
          "font": {
           "color": "#2a3f5f"
          },
          "geo": {
           "bgcolor": "white",
           "lakecolor": "white",
           "landcolor": "#E5ECF6",
           "showlakes": true,
           "showland": true,
           "subunitcolor": "white"
          },
          "hoverlabel": {
           "align": "left"
          },
          "hovermode": "closest",
          "mapbox": {
           "style": "light"
          },
          "paper_bgcolor": "white",
          "plot_bgcolor": "#E5ECF6",
          "polar": {
           "angularaxis": {
            "gridcolor": "white",
            "linecolor": "white",
            "ticks": ""
           },
           "bgcolor": "#E5ECF6",
           "radialaxis": {
            "gridcolor": "white",
            "linecolor": "white",
            "ticks": ""
           }
          },
          "scene": {
           "xaxis": {
            "backgroundcolor": "#E5ECF6",
            "gridcolor": "white",
            "gridwidth": 2,
            "linecolor": "white",
            "showbackground": true,
            "ticks": "",
            "zerolinecolor": "white"
           },
           "yaxis": {
            "backgroundcolor": "#E5ECF6",
            "gridcolor": "white",
            "gridwidth": 2,
            "linecolor": "white",
            "showbackground": true,
            "ticks": "",
            "zerolinecolor": "white"
           },
           "zaxis": {
            "backgroundcolor": "#E5ECF6",
            "gridcolor": "white",
            "gridwidth": 2,
            "linecolor": "white",
            "showbackground": true,
            "ticks": "",
            "zerolinecolor": "white"
           }
          },
          "shapedefaults": {
           "line": {
            "color": "#2a3f5f"
           }
          },
          "ternary": {
           "aaxis": {
            "gridcolor": "white",
            "linecolor": "white",
            "ticks": ""
           },
           "baxis": {
            "gridcolor": "white",
            "linecolor": "white",
            "ticks": ""
           },
           "bgcolor": "#E5ECF6",
           "caxis": {
            "gridcolor": "white",
            "linecolor": "white",
            "ticks": ""
           }
          },
          "title": {
           "x": 0.05
          },
          "xaxis": {
           "automargin": true,
           "gridcolor": "white",
           "linecolor": "white",
           "ticks": "",
           "title": {
            "standoff": 15
           },
           "zerolinecolor": "white",
           "zerolinewidth": 2
          },
          "yaxis": {
           "automargin": true,
           "gridcolor": "white",
           "linecolor": "white",
           "ticks": "",
           "title": {
            "standoff": 15
           },
           "zerolinecolor": "white",
           "zerolinewidth": 2
          }
         }
        },
        "title": {
         "text": "Time Series of 094 Å"
        },
        "xaxis": {
         "title": {
          "text": "Timestamp"
         }
        },
        "yaxis": {
         "title": {
          "text": "Amplitude (Å)"
         }
        }
       }
      },
      "text/html": [
       "<div>                            <div id=\"374419fa-d917-4ffe-ae14-a0946b0b516e\" class=\"plotly-graph-div\" style=\"height:525px; width:100%;\"></div>            <script type=\"text/javascript\">                require([\"plotly\"], function(Plotly) {                    window.PLOTLYENV=window.PLOTLYENV || {};                                    if (document.getElementById(\"374419fa-d917-4ffe-ae14-a0946b0b516e\")) {                    Plotly.newPlot(                        \"374419fa-d917-4ffe-ae14-a0946b0b516e\",                        [{\"x\":[\"2017-04-01T21:35:09\",\"2017-04-01T21:35:18\",\"2017-04-01T21:35:27\",\"2017-04-01T21:35:36\",\"2017-04-01T21:35:45\",\"2017-04-01T21:35:54\",\"2017-04-01T21:36:03\",\"2017-04-01T21:36:12\",\"2017-04-01T21:36:21\",\"2017-04-01T21:36:30\",\"2017-04-01T21:36:39\",\"2017-04-01T21:36:48\",\"2017-04-01T21:36:57\",\"2017-04-01T21:37:06\",\"2017-04-01T21:37:15\",\"2017-04-01T21:37:24\",\"2017-04-01T21:37:33\",\"2017-04-01T21:37:42\",\"2017-04-01T21:37:51\",\"2017-04-01T21:38:00\",\"2017-04-01T21:38:09\",\"2017-04-01T21:38:18\",\"2017-04-01T21:38:27\",\"2017-04-01T21:38:36\",\"2017-04-01T21:38:45\",\"2017-04-01T21:38:54\",\"2017-04-01T21:39:03\",\"2017-04-01T21:39:12\",\"2017-04-01T21:39:21\",\"2017-04-01T21:39:30\",\"2017-04-01T21:39:39\",\"2017-04-01T21:39:48\",\"2017-04-01T21:39:57\",\"2017-04-01T21:40:06\",\"2017-04-01T21:40:15\",\"2017-04-01T21:40:24\",\"2017-04-01T21:40:33\",\"2017-04-01T21:40:42\",\"2017-04-01T21:40:51\",\"2017-04-01T21:41:00\",\"2017-04-01T21:41:09\",\"2017-04-01T21:41:18\",\"2017-04-01T21:41:27\",\"2017-04-01T21:41:36\",\"2017-04-01T21:41:45\",\"2017-04-01T21:41:54\",\"2017-04-01T21:42:03\",\"2017-04-01T21:42:12\",\"2017-04-01T21:42:21\",\"2017-04-01T21:42:30\",\"2017-04-01T21:42:39\",\"2017-04-01T21:42:48\",\"2017-04-01T21:42:57\",\"2017-04-01T21:43:06\",\"2017-04-01T21:43:15\",\"2017-04-01T21:43:24\",\"2017-04-01T21:43:33\",\"2017-04-01T21:43:42\",\"2017-04-01T21:43:51\",\"2017-04-01T21:44:00\",\"2017-04-01T21:44:09\",\"2017-04-01T21:44:18\",\"2017-04-01T21:44:27\",\"2017-04-01T21:44:36\",\"2017-04-01T21:44:45\",\"2017-04-01T21:44:54\",\"2017-04-01T21:45:03\",\"2017-04-01T21:45:12\",\"2017-04-01T21:45:21\",\"2017-04-01T21:45:30\",\"2017-04-01T21:45:39\",\"2017-04-01T21:45:48\",\"2017-04-01T21:45:57\",\"2017-04-01T21:46:06\",\"2017-04-01T21:46:15\",\"2017-04-01T21:46:24\",\"2017-04-01T21:46:33\",\"2017-04-01T21:46:42\",\"2017-04-01T21:46:51\",\"2017-04-01T21:47:00\",\"2017-04-01T21:47:09\",\"2017-04-01T21:47:18\",\"2017-04-01T21:47:27\",\"2017-04-01T21:47:36\",\"2017-04-01T21:47:45\",\"2017-04-01T21:47:54\",\"2017-04-01T21:48:03\",\"2017-04-01T21:48:12\",\"2017-04-01T21:48:21\",\"2017-04-01T21:48:30\",\"2017-04-01T21:48:39\",\"2017-04-01T21:48:48\",\"2017-04-01T21:48:57\",\"2017-04-01T21:49:06\",\"2017-04-01T21:49:15\",\"2017-04-01T21:49:24\",\"2017-04-01T21:49:33\",\"2017-04-01T21:49:42\",\"2017-04-01T21:49:51\",\"2017-04-01T21:50:00\",\"2017-04-01T21:50:09\",\"2017-04-01T21:50:18\",\"2017-04-01T21:50:27\",\"2017-04-01T21:50:36\",\"2017-04-01T21:50:45\",\"2017-04-01T21:50:54\",\"2017-04-01T21:51:03\",\"2017-04-01T21:51:12\",\"2017-04-01T21:51:21\",\"2017-04-01T21:51:30\",\"2017-04-01T21:51:39\",\"2017-04-01T21:51:48\",\"2017-04-01T21:51:57\",\"2017-04-01T21:52:06\",\"2017-04-01T21:52:15\",\"2017-04-01T21:52:24\",\"2017-04-01T21:52:33\",\"2017-04-01T21:52:42\",\"2017-04-01T21:52:51\",\"2017-04-01T21:53:00\",\"2017-04-01T21:53:09\",\"2017-04-01T21:53:18\",\"2017-04-01T21:53:27\",\"2017-04-01T21:53:36\",\"2017-04-01T21:53:45\",\"2017-04-01T21:53:54\",\"2017-04-01T21:54:03\",\"2017-04-01T21:54:12\",\"2017-04-01T21:54:21\",\"2017-04-01T21:54:30\",\"2017-04-01T21:54:39\",\"2017-04-01T21:54:48\",\"2017-04-01T21:54:57\",\"2017-04-01T21:55:06\",\"2017-04-01T21:55:15\",\"2017-04-01T21:55:24\",\"2017-04-01T21:55:33\",\"2017-04-01T21:55:42\",\"2017-04-01T21:55:51\",\"2017-04-01T21:56:00\",\"2017-04-01T21:56:09\",\"2017-04-01T21:56:18\",\"2017-04-01T21:56:27\",\"2017-04-01T21:56:36\",\"2017-04-01T21:56:45\",\"2017-04-01T21:56:54\",\"2017-04-01T21:57:03\",\"2017-04-01T21:57:12\",\"2017-04-01T21:57:21\",\"2017-04-01T21:57:30\",\"2017-04-01T21:57:39\",\"2017-04-01T21:57:48\",\"2017-04-01T21:57:57\",\"2017-04-01T21:58:06\",\"2017-04-01T21:58:15\",\"2017-04-01T21:58:24\",\"2017-04-01T21:58:33\",\"2017-04-01T21:58:42\",\"2017-04-01T21:58:51\",\"2017-04-01T21:59:00\",\"2017-04-01T21:59:09\",\"2017-04-01T21:59:18\",\"2017-04-01T21:59:27\",\"2017-04-01T21:59:36\",\"2017-04-01T21:59:45\",\"2017-04-01T21:59:54\",\"2017-04-01T22:00:03\",\"2017-04-01T22:00:12\",\"2017-04-01T22:00:21\",\"2017-04-01T22:00:30\",\"2017-04-01T22:00:39\",\"2017-04-01T22:00:48\",\"2017-04-01T22:00:57\",\"2017-04-01T22:01:06\",\"2017-04-01T22:01:15\",\"2017-04-01T22:01:24\",\"2017-04-01T22:01:33\",\"2017-04-01T22:01:42\",\"2017-04-01T22:01:51\",\"2017-04-01T22:02:00\",\"2017-04-01T22:02:09\",\"2017-04-01T22:02:18\",\"2017-04-01T22:02:27\",\"2017-04-01T22:02:36\",\"2017-04-01T22:02:45\",\"2017-04-01T22:02:54\",\"2017-04-01T22:03:03\",\"2017-04-01T22:03:12\",\"2017-04-01T22:03:21\",\"2017-04-01T22:03:30\",\"2017-04-01T22:03:39\",\"2017-04-01T22:03:48\",\"2017-04-01T22:03:57\",\"2017-04-01T22:04:06\",\"2017-04-01T22:04:15\",\"2017-04-01T22:04:24\",\"2017-04-01T22:04:33\",\"2017-04-01T22:04:42\",\"2017-04-01T22:04:51\",\"2017-04-01T22:05:00\"],\"y\":[13,13,11,10,12,11,12,15,15,16,14,16,16,21,17,15,14,11,6,7,11,9,9,4,6,9,6,13,5,11,16,15,15,22,15,25,29,20,19,18,18,16,16,18,19,19,18,11,9,14,8,13,16,14,9,18,13,14,16,22,17,18,16,11,13,9,13,12,11,11,15,12,10,10,13,15,13,11,20,20,14,18,14,15,15,17,19,20,20,21,26,27,25,27,26,23,24,25,22,29,32,30,27,19,12,10,14,15,14,10,10,12,13,10,11,9,9,10,11,10,11,11,9,10,15,31,25,21,14,11,9,10,9,10,10,9,11,10,15,19,15,9,7,8,10,8,9,6,7,8,8,6,10,11,8,7,7,11,10,11,13,11,13,17,15,18,20,16,12,13,10,11,14,14,13,13,18,13,15,16,9,12,18,23,22,18,14,11,13,13,9,10,8,4,8,7,8,9,9,8],\"type\":\"scatter\"}],                        {\"template\":{\"data\":{\"bar\":[{\"error_x\":{\"color\":\"#2a3f5f\"},\"error_y\":{\"color\":\"#2a3f5f\"},\"marker\":{\"line\":{\"color\":\"#E5ECF6\",\"width\":0.5},\"pattern\":{\"fillmode\":\"overlay\",\"size\":10,\"solidity\":0.2}},\"type\":\"bar\"}],\"barpolar\":[{\"marker\":{\"line\":{\"color\":\"#E5ECF6\",\"width\":0.5},\"pattern\":{\"fillmode\":\"overlay\",\"size\":10,\"solidity\":0.2}},\"type\":\"barpolar\"}],\"carpet\":[{\"aaxis\":{\"endlinecolor\":\"#2a3f5f\",\"gridcolor\":\"white\",\"linecolor\":\"white\",\"minorgridcolor\":\"white\",\"startlinecolor\":\"#2a3f5f\"},\"baxis\":{\"endlinecolor\":\"#2a3f5f\",\"gridcolor\":\"white\",\"linecolor\":\"white\",\"minorgridcolor\":\"white\",\"startlinecolor\":\"#2a3f5f\"},\"type\":\"carpet\"}],\"choropleth\":[{\"colorbar\":{\"outlinewidth\":0,\"ticks\":\"\"},\"type\":\"choropleth\"}],\"contour\":[{\"colorbar\":{\"outlinewidth\":0,\"ticks\":\"\"},\"colorscale\":[[0.0,\"#0d0887\"],[0.1111111111111111,\"#46039f\"],[0.2222222222222222,\"#7201a8\"],[0.3333333333333333,\"#9c179e\"],[0.4444444444444444,\"#bd3786\"],[0.5555555555555556,\"#d8576b\"],[0.6666666666666666,\"#ed7953\"],[0.7777777777777778,\"#fb9f3a\"],[0.8888888888888888,\"#fdca26\"],[1.0,\"#f0f921\"]],\"type\":\"contour\"}],\"contourcarpet\":[{\"colorbar\":{\"outlinewidth\":0,\"ticks\":\"\"},\"type\":\"contourcarpet\"}],\"heatmap\":[{\"colorbar\":{\"outlinewidth\":0,\"ticks\":\"\"},\"colorscale\":[[0.0,\"#0d0887\"],[0.1111111111111111,\"#46039f\"],[0.2222222222222222,\"#7201a8\"],[0.3333333333333333,\"#9c179e\"],[0.4444444444444444,\"#bd3786\"],[0.5555555555555556,\"#d8576b\"],[0.6666666666666666,\"#ed7953\"],[0.7777777777777778,\"#fb9f3a\"],[0.8888888888888888,\"#fdca26\"],[1.0,\"#f0f921\"]],\"type\":\"heatmap\"}],\"heatmapgl\":[{\"colorbar\":{\"outlinewidth\":0,\"ticks\":\"\"},\"colorscale\":[[0.0,\"#0d0887\"],[0.1111111111111111,\"#46039f\"],[0.2222222222222222,\"#7201a8\"],[0.3333333333333333,\"#9c179e\"],[0.4444444444444444,\"#bd3786\"],[0.5555555555555556,\"#d8576b\"],[0.6666666666666666,\"#ed7953\"],[0.7777777777777778,\"#fb9f3a\"],[0.8888888888888888,\"#fdca26\"],[1.0,\"#f0f921\"]],\"type\":\"heatmapgl\"}],\"histogram\":[{\"marker\":{\"pattern\":{\"fillmode\":\"overlay\",\"size\":10,\"solidity\":0.2}},\"type\":\"histogram\"}],\"histogram2d\":[{\"colorbar\":{\"outlinewidth\":0,\"ticks\":\"\"},\"colorscale\":[[0.0,\"#0d0887\"],[0.1111111111111111,\"#46039f\"],[0.2222222222222222,\"#7201a8\"],[0.3333333333333333,\"#9c179e\"],[0.4444444444444444,\"#bd3786\"],[0.5555555555555556,\"#d8576b\"],[0.6666666666666666,\"#ed7953\"],[0.7777777777777778,\"#fb9f3a\"],[0.8888888888888888,\"#fdca26\"],[1.0,\"#f0f921\"]],\"type\":\"histogram2d\"}],\"histogram2dcontour\":[{\"colorbar\":{\"outlinewidth\":0,\"ticks\":\"\"},\"colorscale\":[[0.0,\"#0d0887\"],[0.1111111111111111,\"#46039f\"],[0.2222222222222222,\"#7201a8\"],[0.3333333333333333,\"#9c179e\"],[0.4444444444444444,\"#bd3786\"],[0.5555555555555556,\"#d8576b\"],[0.6666666666666666,\"#ed7953\"],[0.7777777777777778,\"#fb9f3a\"],[0.8888888888888888,\"#fdca26\"],[1.0,\"#f0f921\"]],\"type\":\"histogram2dcontour\"}],\"mesh3d\":[{\"colorbar\":{\"outlinewidth\":0,\"ticks\":\"\"},\"type\":\"mesh3d\"}],\"parcoords\":[{\"line\":{\"colorbar\":{\"outlinewidth\":0,\"ticks\":\"\"}},\"type\":\"parcoords\"}],\"pie\":[{\"automargin\":true,\"type\":\"pie\"}],\"scatter\":[{\"marker\":{\"colorbar\":{\"outlinewidth\":0,\"ticks\":\"\"}},\"type\":\"scatter\"}],\"scatter3d\":[{\"line\":{\"colorbar\":{\"outlinewidth\":0,\"ticks\":\"\"}},\"marker\":{\"colorbar\":{\"outlinewidth\":0,\"ticks\":\"\"}},\"type\":\"scatter3d\"}],\"scattercarpet\":[{\"marker\":{\"colorbar\":{\"outlinewidth\":0,\"ticks\":\"\"}},\"type\":\"scattercarpet\"}],\"scattergeo\":[{\"marker\":{\"colorbar\":{\"outlinewidth\":0,\"ticks\":\"\"}},\"type\":\"scattergeo\"}],\"scattergl\":[{\"marker\":{\"colorbar\":{\"outlinewidth\":0,\"ticks\":\"\"}},\"type\":\"scattergl\"}],\"scattermapbox\":[{\"marker\":{\"colorbar\":{\"outlinewidth\":0,\"ticks\":\"\"}},\"type\":\"scattermapbox\"}],\"scatterpolar\":[{\"marker\":{\"colorbar\":{\"outlinewidth\":0,\"ticks\":\"\"}},\"type\":\"scatterpolar\"}],\"scatterpolargl\":[{\"marker\":{\"colorbar\":{\"outlinewidth\":0,\"ticks\":\"\"}},\"type\":\"scatterpolargl\"}],\"scatterternary\":[{\"marker\":{\"colorbar\":{\"outlinewidth\":0,\"ticks\":\"\"}},\"type\":\"scatterternary\"}],\"surface\":[{\"colorbar\":{\"outlinewidth\":0,\"ticks\":\"\"},\"colorscale\":[[0.0,\"#0d0887\"],[0.1111111111111111,\"#46039f\"],[0.2222222222222222,\"#7201a8\"],[0.3333333333333333,\"#9c179e\"],[0.4444444444444444,\"#bd3786\"],[0.5555555555555556,\"#d8576b\"],[0.6666666666666666,\"#ed7953\"],[0.7777777777777778,\"#fb9f3a\"],[0.8888888888888888,\"#fdca26\"],[1.0,\"#f0f921\"]],\"type\":\"surface\"}],\"table\":[{\"cells\":{\"fill\":{\"color\":\"#EBF0F8\"},\"line\":{\"color\":\"white\"}},\"header\":{\"fill\":{\"color\":\"#C8D4E3\"},\"line\":{\"color\":\"white\"}},\"type\":\"table\"}]},\"layout\":{\"annotationdefaults\":{\"arrowcolor\":\"#2a3f5f\",\"arrowhead\":0,\"arrowwidth\":1},\"autotypenumbers\":\"strict\",\"coloraxis\":{\"colorbar\":{\"outlinewidth\":0,\"ticks\":\"\"}},\"colorscale\":{\"diverging\":[[0,\"#8e0152\"],[0.1,\"#c51b7d\"],[0.2,\"#de77ae\"],[0.3,\"#f1b6da\"],[0.4,\"#fde0ef\"],[0.5,\"#f7f7f7\"],[0.6,\"#e6f5d0\"],[0.7,\"#b8e186\"],[0.8,\"#7fbc41\"],[0.9,\"#4d9221\"],[1,\"#276419\"]],\"sequential\":[[0.0,\"#0d0887\"],[0.1111111111111111,\"#46039f\"],[0.2222222222222222,\"#7201a8\"],[0.3333333333333333,\"#9c179e\"],[0.4444444444444444,\"#bd3786\"],[0.5555555555555556,\"#d8576b\"],[0.6666666666666666,\"#ed7953\"],[0.7777777777777778,\"#fb9f3a\"],[0.8888888888888888,\"#fdca26\"],[1.0,\"#f0f921\"]],\"sequentialminus\":[[0.0,\"#0d0887\"],[0.1111111111111111,\"#46039f\"],[0.2222222222222222,\"#7201a8\"],[0.3333333333333333,\"#9c179e\"],[0.4444444444444444,\"#bd3786\"],[0.5555555555555556,\"#d8576b\"],[0.6666666666666666,\"#ed7953\"],[0.7777777777777778,\"#fb9f3a\"],[0.8888888888888888,\"#fdca26\"],[1.0,\"#f0f921\"]]},\"colorway\":[\"#636efa\",\"#EF553B\",\"#00cc96\",\"#ab63fa\",\"#FFA15A\",\"#19d3f3\",\"#FF6692\",\"#B6E880\",\"#FF97FF\",\"#FECB52\"],\"font\":{\"color\":\"#2a3f5f\"},\"geo\":{\"bgcolor\":\"white\",\"lakecolor\":\"white\",\"landcolor\":\"#E5ECF6\",\"showlakes\":true,\"showland\":true,\"subunitcolor\":\"white\"},\"hoverlabel\":{\"align\":\"left\"},\"hovermode\":\"closest\",\"mapbox\":{\"style\":\"light\"},\"paper_bgcolor\":\"white\",\"plot_bgcolor\":\"#E5ECF6\",\"polar\":{\"angularaxis\":{\"gridcolor\":\"white\",\"linecolor\":\"white\",\"ticks\":\"\"},\"bgcolor\":\"#E5ECF6\",\"radialaxis\":{\"gridcolor\":\"white\",\"linecolor\":\"white\",\"ticks\":\"\"}},\"scene\":{\"xaxis\":{\"backgroundcolor\":\"#E5ECF6\",\"gridcolor\":\"white\",\"gridwidth\":2,\"linecolor\":\"white\",\"showbackground\":true,\"ticks\":\"\",\"zerolinecolor\":\"white\"},\"yaxis\":{\"backgroundcolor\":\"#E5ECF6\",\"gridcolor\":\"white\",\"gridwidth\":2,\"linecolor\":\"white\",\"showbackground\":true,\"ticks\":\"\",\"zerolinecolor\":\"white\"},\"zaxis\":{\"backgroundcolor\":\"#E5ECF6\",\"gridcolor\":\"white\",\"gridwidth\":2,\"linecolor\":\"white\",\"showbackground\":true,\"ticks\":\"\",\"zerolinecolor\":\"white\"}},\"shapedefaults\":{\"line\":{\"color\":\"#2a3f5f\"}},\"ternary\":{\"aaxis\":{\"gridcolor\":\"white\",\"linecolor\":\"white\",\"ticks\":\"\"},\"baxis\":{\"gridcolor\":\"white\",\"linecolor\":\"white\",\"ticks\":\"\"},\"bgcolor\":\"#E5ECF6\",\"caxis\":{\"gridcolor\":\"white\",\"linecolor\":\"white\",\"ticks\":\"\"}},\"title\":{\"x\":0.05},\"xaxis\":{\"automargin\":true,\"gridcolor\":\"white\",\"linecolor\":\"white\",\"ticks\":\"\",\"title\":{\"standoff\":15},\"zerolinecolor\":\"white\",\"zerolinewidth\":2},\"yaxis\":{\"automargin\":true,\"gridcolor\":\"white\",\"linecolor\":\"white\",\"ticks\":\"\",\"title\":{\"standoff\":15},\"zerolinecolor\":\"white\",\"zerolinewidth\":2}}},\"xaxis\":{\"title\":{\"text\":\"Timestamp\"}},\"yaxis\":{\"title\":{\"text\":\"Amplitude (\\u212b)\"}},\"title\":{\"text\":\"Time Series of 094 \\u212b\"}},                        {\"responsive\": true}                    ).then(function(){\n",
       "                            \n",
       "var gd = document.getElementById('374419fa-d917-4ffe-ae14-a0946b0b516e');\n",
       "var x = new MutationObserver(function (mutations, observer) {{\n",
       "        var display = window.getComputedStyle(gd).display;\n",
       "        if (!display || display === 'none') {{\n",
       "            console.log([gd, 'removed!']);\n",
       "            Plotly.purge(gd);\n",
       "            observer.disconnect();\n",
       "        }}\n",
       "}});\n",
       "\n",
       "// Listen for the removal of the full notebook cells\n",
       "var notebookContainer = gd.closest('#notebook-container');\n",
       "if (notebookContainer) {{\n",
       "    x.observe(notebookContainer, {childList: true});\n",
       "}}\n",
       "\n",
       "// Listen for the clearing of the current output cell\n",
       "var outputEl = gd.closest('.output');\n",
       "if (outputEl) {{\n",
       "    x.observe(outputEl, {childList: true});\n",
       "}}\n",
       "\n",
       "                        })                };                });            </script>        </div>"
      ]
     },
     "metadata": {},
     "output_type": "display_data"
    }
   ],
   "source": [
    "import numpy as np\n",
    "import plotly.graph_objects as go\n",
    "\n",
    "#Pick a number 0-6 to correspond to the wavelength you want to look at\n",
    "w = 6\n",
    "\n",
    "#Simply graphing the time series data\n",
    "fig = go.Figure(data=go.Scatter(x=t, y=data[:,0,0,0]))\n",
    "fig.update_layout(xaxis_title = \"Timestamp\", \n",
    "                  yaxis_title = \"Amplitude (Å)\", \n",
    "                  title = \"Time Series of \" + wavelengths[w])\n",
    "fig.show()"
   ]
  },
  {
   "cell_type": "markdown",
   "id": "d6b50848",
   "metadata": {},
   "source": [
    "# Embedding the Data"
   ]
  },
  {
   "cell_type": "code",
   "execution_count": 83,
   "id": "7c39f58f",
   "metadata": {},
   "outputs": [
    {
     "name": "stdout",
     "output_type": "stream",
     "text": [
      "Number of Data Points:  200\n",
      "Number of Embedded Data Points:  20\n",
      "Shape of embedded time series: (20, 2)\n"
     ]
    },
    {
     "data": {
      "application/vnd.plotly.v1+json": {
       "config": {
        "plotlyServerURL": "https://plot.ly"
       },
       "data": [
        {
         "marker": {
          "color": [
           0,
           1,
           2,
           3,
           4,
           5,
           6,
           7,
           8,
           9,
           10,
           11,
           12,
           13,
           14,
           15,
           16,
           17,
           18,
           19
          ],
          "colorscale": [
           [
            0,
            "#440154"
           ],
           [
            0.1111111111111111,
            "#482878"
           ],
           [
            0.2222222222222222,
            "#3e4989"
           ],
           [
            0.3333333333333333,
            "#31688e"
           ],
           [
            0.4444444444444444,
            "#26828e"
           ],
           [
            0.5555555555555556,
            "#1f9e89"
           ],
           [
            0.6666666666666666,
            "#35b779"
           ],
           [
            0.7777777777777778,
            "#6ece58"
           ],
           [
            0.8888888888888888,
            "#b5de2b"
           ],
           [
            1,
            "#fde725"
           ]
          ],
          "opacity": 0.8,
          "size": 4
         },
         "mode": "markers",
         "type": "scatter",
         "x": [
          13,
          16,
          9,
          15,
          16,
          13,
          18,
          12,
          18,
          27,
          30,
          12,
          11,
          10,
          9,
          6,
          11,
          11,
          12,
          10
         ],
         "y": [
          16,
          7,
          11,
          18,
          14,
          22,
          11,
          20,
          21,
          29,
          10,
          10,
          11,
          19,
          8,
          11,
          13,
          16,
          13,
          8
         ]
        }
       ],
       "layout": {
        "height": 600,
        "plot_bgcolor": "white",
        "template": {
         "data": {
          "bar": [
           {
            "error_x": {
             "color": "#2a3f5f"
            },
            "error_y": {
             "color": "#2a3f5f"
            },
            "marker": {
             "line": {
              "color": "#E5ECF6",
              "width": 0.5
             },
             "pattern": {
              "fillmode": "overlay",
              "size": 10,
              "solidity": 0.2
             }
            },
            "type": "bar"
           }
          ],
          "barpolar": [
           {
            "marker": {
             "line": {
              "color": "#E5ECF6",
              "width": 0.5
             },
             "pattern": {
              "fillmode": "overlay",
              "size": 10,
              "solidity": 0.2
             }
            },
            "type": "barpolar"
           }
          ],
          "carpet": [
           {
            "aaxis": {
             "endlinecolor": "#2a3f5f",
             "gridcolor": "white",
             "linecolor": "white",
             "minorgridcolor": "white",
             "startlinecolor": "#2a3f5f"
            },
            "baxis": {
             "endlinecolor": "#2a3f5f",
             "gridcolor": "white",
             "linecolor": "white",
             "minorgridcolor": "white",
             "startlinecolor": "#2a3f5f"
            },
            "type": "carpet"
           }
          ],
          "choropleth": [
           {
            "colorbar": {
             "outlinewidth": 0,
             "ticks": ""
            },
            "type": "choropleth"
           }
          ],
          "contour": [
           {
            "colorbar": {
             "outlinewidth": 0,
             "ticks": ""
            },
            "colorscale": [
             [
              0,
              "#0d0887"
             ],
             [
              0.1111111111111111,
              "#46039f"
             ],
             [
              0.2222222222222222,
              "#7201a8"
             ],
             [
              0.3333333333333333,
              "#9c179e"
             ],
             [
              0.4444444444444444,
              "#bd3786"
             ],
             [
              0.5555555555555556,
              "#d8576b"
             ],
             [
              0.6666666666666666,
              "#ed7953"
             ],
             [
              0.7777777777777778,
              "#fb9f3a"
             ],
             [
              0.8888888888888888,
              "#fdca26"
             ],
             [
              1,
              "#f0f921"
             ]
            ],
            "type": "contour"
           }
          ],
          "contourcarpet": [
           {
            "colorbar": {
             "outlinewidth": 0,
             "ticks": ""
            },
            "type": "contourcarpet"
           }
          ],
          "heatmap": [
           {
            "colorbar": {
             "outlinewidth": 0,
             "ticks": ""
            },
            "colorscale": [
             [
              0,
              "#0d0887"
             ],
             [
              0.1111111111111111,
              "#46039f"
             ],
             [
              0.2222222222222222,
              "#7201a8"
             ],
             [
              0.3333333333333333,
              "#9c179e"
             ],
             [
              0.4444444444444444,
              "#bd3786"
             ],
             [
              0.5555555555555556,
              "#d8576b"
             ],
             [
              0.6666666666666666,
              "#ed7953"
             ],
             [
              0.7777777777777778,
              "#fb9f3a"
             ],
             [
              0.8888888888888888,
              "#fdca26"
             ],
             [
              1,
              "#f0f921"
             ]
            ],
            "type": "heatmap"
           }
          ],
          "heatmapgl": [
           {
            "colorbar": {
             "outlinewidth": 0,
             "ticks": ""
            },
            "colorscale": [
             [
              0,
              "#0d0887"
             ],
             [
              0.1111111111111111,
              "#46039f"
             ],
             [
              0.2222222222222222,
              "#7201a8"
             ],
             [
              0.3333333333333333,
              "#9c179e"
             ],
             [
              0.4444444444444444,
              "#bd3786"
             ],
             [
              0.5555555555555556,
              "#d8576b"
             ],
             [
              0.6666666666666666,
              "#ed7953"
             ],
             [
              0.7777777777777778,
              "#fb9f3a"
             ],
             [
              0.8888888888888888,
              "#fdca26"
             ],
             [
              1,
              "#f0f921"
             ]
            ],
            "type": "heatmapgl"
           }
          ],
          "histogram": [
           {
            "marker": {
             "pattern": {
              "fillmode": "overlay",
              "size": 10,
              "solidity": 0.2
             }
            },
            "type": "histogram"
           }
          ],
          "histogram2d": [
           {
            "colorbar": {
             "outlinewidth": 0,
             "ticks": ""
            },
            "colorscale": [
             [
              0,
              "#0d0887"
             ],
             [
              0.1111111111111111,
              "#46039f"
             ],
             [
              0.2222222222222222,
              "#7201a8"
             ],
             [
              0.3333333333333333,
              "#9c179e"
             ],
             [
              0.4444444444444444,
              "#bd3786"
             ],
             [
              0.5555555555555556,
              "#d8576b"
             ],
             [
              0.6666666666666666,
              "#ed7953"
             ],
             [
              0.7777777777777778,
              "#fb9f3a"
             ],
             [
              0.8888888888888888,
              "#fdca26"
             ],
             [
              1,
              "#f0f921"
             ]
            ],
            "type": "histogram2d"
           }
          ],
          "histogram2dcontour": [
           {
            "colorbar": {
             "outlinewidth": 0,
             "ticks": ""
            },
            "colorscale": [
             [
              0,
              "#0d0887"
             ],
             [
              0.1111111111111111,
              "#46039f"
             ],
             [
              0.2222222222222222,
              "#7201a8"
             ],
             [
              0.3333333333333333,
              "#9c179e"
             ],
             [
              0.4444444444444444,
              "#bd3786"
             ],
             [
              0.5555555555555556,
              "#d8576b"
             ],
             [
              0.6666666666666666,
              "#ed7953"
             ],
             [
              0.7777777777777778,
              "#fb9f3a"
             ],
             [
              0.8888888888888888,
              "#fdca26"
             ],
             [
              1,
              "#f0f921"
             ]
            ],
            "type": "histogram2dcontour"
           }
          ],
          "mesh3d": [
           {
            "colorbar": {
             "outlinewidth": 0,
             "ticks": ""
            },
            "type": "mesh3d"
           }
          ],
          "parcoords": [
           {
            "line": {
             "colorbar": {
              "outlinewidth": 0,
              "ticks": ""
             }
            },
            "type": "parcoords"
           }
          ],
          "pie": [
           {
            "automargin": true,
            "type": "pie"
           }
          ],
          "scatter": [
           {
            "marker": {
             "colorbar": {
              "outlinewidth": 0,
              "ticks": ""
             }
            },
            "type": "scatter"
           }
          ],
          "scatter3d": [
           {
            "line": {
             "colorbar": {
              "outlinewidth": 0,
              "ticks": ""
             }
            },
            "marker": {
             "colorbar": {
              "outlinewidth": 0,
              "ticks": ""
             }
            },
            "type": "scatter3d"
           }
          ],
          "scattercarpet": [
           {
            "marker": {
             "colorbar": {
              "outlinewidth": 0,
              "ticks": ""
             }
            },
            "type": "scattercarpet"
           }
          ],
          "scattergeo": [
           {
            "marker": {
             "colorbar": {
              "outlinewidth": 0,
              "ticks": ""
             }
            },
            "type": "scattergeo"
           }
          ],
          "scattergl": [
           {
            "marker": {
             "colorbar": {
              "outlinewidth": 0,
              "ticks": ""
             }
            },
            "type": "scattergl"
           }
          ],
          "scattermapbox": [
           {
            "marker": {
             "colorbar": {
              "outlinewidth": 0,
              "ticks": ""
             }
            },
            "type": "scattermapbox"
           }
          ],
          "scatterpolar": [
           {
            "marker": {
             "colorbar": {
              "outlinewidth": 0,
              "ticks": ""
             }
            },
            "type": "scatterpolar"
           }
          ],
          "scatterpolargl": [
           {
            "marker": {
             "colorbar": {
              "outlinewidth": 0,
              "ticks": ""
             }
            },
            "type": "scatterpolargl"
           }
          ],
          "scatterternary": [
           {
            "marker": {
             "colorbar": {
              "outlinewidth": 0,
              "ticks": ""
             }
            },
            "type": "scatterternary"
           }
          ],
          "surface": [
           {
            "colorbar": {
             "outlinewidth": 0,
             "ticks": ""
            },
            "colorscale": [
             [
              0,
              "#0d0887"
             ],
             [
              0.1111111111111111,
              "#46039f"
             ],
             [
              0.2222222222222222,
              "#7201a8"
             ],
             [
              0.3333333333333333,
              "#9c179e"
             ],
             [
              0.4444444444444444,
              "#bd3786"
             ],
             [
              0.5555555555555556,
              "#d8576b"
             ],
             [
              0.6666666666666666,
              "#ed7953"
             ],
             [
              0.7777777777777778,
              "#fb9f3a"
             ],
             [
              0.8888888888888888,
              "#fdca26"
             ],
             [
              1,
              "#f0f921"
             ]
            ],
            "type": "surface"
           }
          ],
          "table": [
           {
            "cells": {
             "fill": {
              "color": "#EBF0F8"
             },
             "line": {
              "color": "white"
             }
            },
            "header": {
             "fill": {
              "color": "#C8D4E3"
             },
             "line": {
              "color": "white"
             }
            },
            "type": "table"
           }
          ]
         },
         "layout": {
          "annotationdefaults": {
           "arrowcolor": "#2a3f5f",
           "arrowhead": 0,
           "arrowwidth": 1
          },
          "autotypenumbers": "strict",
          "coloraxis": {
           "colorbar": {
            "outlinewidth": 0,
            "ticks": ""
           }
          },
          "colorscale": {
           "diverging": [
            [
             0,
             "#8e0152"
            ],
            [
             0.1,
             "#c51b7d"
            ],
            [
             0.2,
             "#de77ae"
            ],
            [
             0.3,
             "#f1b6da"
            ],
            [
             0.4,
             "#fde0ef"
            ],
            [
             0.5,
             "#f7f7f7"
            ],
            [
             0.6,
             "#e6f5d0"
            ],
            [
             0.7,
             "#b8e186"
            ],
            [
             0.8,
             "#7fbc41"
            ],
            [
             0.9,
             "#4d9221"
            ],
            [
             1,
             "#276419"
            ]
           ],
           "sequential": [
            [
             0,
             "#0d0887"
            ],
            [
             0.1111111111111111,
             "#46039f"
            ],
            [
             0.2222222222222222,
             "#7201a8"
            ],
            [
             0.3333333333333333,
             "#9c179e"
            ],
            [
             0.4444444444444444,
             "#bd3786"
            ],
            [
             0.5555555555555556,
             "#d8576b"
            ],
            [
             0.6666666666666666,
             "#ed7953"
            ],
            [
             0.7777777777777778,
             "#fb9f3a"
            ],
            [
             0.8888888888888888,
             "#fdca26"
            ],
            [
             1,
             "#f0f921"
            ]
           ],
           "sequentialminus": [
            [
             0,
             "#0d0887"
            ],
            [
             0.1111111111111111,
             "#46039f"
            ],
            [
             0.2222222222222222,
             "#7201a8"
            ],
            [
             0.3333333333333333,
             "#9c179e"
            ],
            [
             0.4444444444444444,
             "#bd3786"
            ],
            [
             0.5555555555555556,
             "#d8576b"
            ],
            [
             0.6666666666666666,
             "#ed7953"
            ],
            [
             0.7777777777777778,
             "#fb9f3a"
            ],
            [
             0.8888888888888888,
             "#fdca26"
            ],
            [
             1,
             "#f0f921"
            ]
           ]
          },
          "colorway": [
           "#636efa",
           "#EF553B",
           "#00cc96",
           "#ab63fa",
           "#FFA15A",
           "#19d3f3",
           "#FF6692",
           "#B6E880",
           "#FF97FF",
           "#FECB52"
          ],
          "font": {
           "color": "#2a3f5f"
          },
          "geo": {
           "bgcolor": "white",
           "lakecolor": "white",
           "landcolor": "#E5ECF6",
           "showlakes": true,
           "showland": true,
           "subunitcolor": "white"
          },
          "hoverlabel": {
           "align": "left"
          },
          "hovermode": "closest",
          "mapbox": {
           "style": "light"
          },
          "paper_bgcolor": "white",
          "plot_bgcolor": "#E5ECF6",
          "polar": {
           "angularaxis": {
            "gridcolor": "white",
            "linecolor": "white",
            "ticks": ""
           },
           "bgcolor": "#E5ECF6",
           "radialaxis": {
            "gridcolor": "white",
            "linecolor": "white",
            "ticks": ""
           }
          },
          "scene": {
           "xaxis": {
            "backgroundcolor": "#E5ECF6",
            "gridcolor": "white",
            "gridwidth": 2,
            "linecolor": "white",
            "showbackground": true,
            "ticks": "",
            "zerolinecolor": "white"
           },
           "yaxis": {
            "backgroundcolor": "#E5ECF6",
            "gridcolor": "white",
            "gridwidth": 2,
            "linecolor": "white",
            "showbackground": true,
            "ticks": "",
            "zerolinecolor": "white"
           },
           "zaxis": {
            "backgroundcolor": "#E5ECF6",
            "gridcolor": "white",
            "gridwidth": 2,
            "linecolor": "white",
            "showbackground": true,
            "ticks": "",
            "zerolinecolor": "white"
           }
          },
          "shapedefaults": {
           "line": {
            "color": "#2a3f5f"
           }
          },
          "ternary": {
           "aaxis": {
            "gridcolor": "white",
            "linecolor": "white",
            "ticks": ""
           },
           "baxis": {
            "gridcolor": "white",
            "linecolor": "white",
            "ticks": ""
           },
           "bgcolor": "#E5ECF6",
           "caxis": {
            "gridcolor": "white",
            "linecolor": "white",
            "ticks": ""
           }
          },
          "title": {
           "x": 0.05
          },
          "xaxis": {
           "automargin": true,
           "gridcolor": "white",
           "linecolor": "white",
           "ticks": "",
           "title": {
            "standoff": 15
           },
           "zerolinecolor": "white",
           "zerolinewidth": 2
          },
          "yaxis": {
           "automargin": true,
           "gridcolor": "white",
           "linecolor": "white",
           "ticks": "",
           "title": {
            "standoff": 15
           },
           "zerolinecolor": "white",
           "zerolinewidth": 2
          }
         }
        },
        "width": 600,
        "xaxis": {
         "anchor": "x",
         "exponentformat": "e",
         "linecolor": "black",
         "linewidth": 1,
         "mirror": false,
         "showexponent": "all",
         "showline": true,
         "side": "bottom",
         "ticks": "outside",
         "title": {
          "text": "0th"
         },
         "type": "linear",
         "zeroline": true
        },
        "yaxis": {
         "anchor": "y",
         "exponentformat": "e",
         "linecolor": "black",
         "linewidth": 1,
         "mirror": false,
         "showexponent": "all",
         "showline": true,
         "side": "left",
         "ticks": "outside",
         "title": {
          "text": "1st"
         },
         "type": "linear",
         "zeroline": true
        }
       }
      },
      "text/html": [
       "<div>                            <div id=\"3773755c-8e75-4594-8f50-81a92bac4201\" class=\"plotly-graph-div\" style=\"height:600px; width:600px;\"></div>            <script type=\"text/javascript\">                require([\"plotly\"], function(Plotly) {                    window.PLOTLYENV=window.PLOTLYENV || {};                                    if (document.getElementById(\"3773755c-8e75-4594-8f50-81a92bac4201\")) {                    Plotly.newPlot(                        \"3773755c-8e75-4594-8f50-81a92bac4201\",                        [{\"marker\":{\"color\":[0,1,2,3,4,5,6,7,8,9,10,11,12,13,14,15,16,17,18,19],\"colorscale\":[[0.0,\"#440154\"],[0.1111111111111111,\"#482878\"],[0.2222222222222222,\"#3e4989\"],[0.3333333333333333,\"#31688e\"],[0.4444444444444444,\"#26828e\"],[0.5555555555555556,\"#1f9e89\"],[0.6666666666666666,\"#35b779\"],[0.7777777777777778,\"#6ece58\"],[0.8888888888888888,\"#b5de2b\"],[1.0,\"#fde725\"]],\"opacity\":0.8,\"size\":4},\"mode\":\"markers\",\"x\":[13,16,9,15,16,13,18,12,18,27,30,12,11,10,9,6,11,11,12,10],\"y\":[16,7,11,18,14,22,11,20,21,29,10,10,11,19,8,11,13,16,13,8],\"type\":\"scatter\"}],                        {\"height\":600,\"plot_bgcolor\":\"white\",\"width\":600,\"xaxis\":{\"anchor\":\"x\",\"exponentformat\":\"e\",\"showexponent\":\"all\",\"showline\":true,\"side\":\"bottom\",\"ticks\":\"outside\",\"title\":{\"text\":\"0th\"},\"type\":\"linear\",\"zeroline\":true,\"linewidth\":1,\"linecolor\":\"black\",\"mirror\":false},\"yaxis\":{\"anchor\":\"y\",\"exponentformat\":\"e\",\"showexponent\":\"all\",\"showline\":true,\"side\":\"left\",\"ticks\":\"outside\",\"title\":{\"text\":\"1st\"},\"type\":\"linear\",\"zeroline\":true,\"linewidth\":1,\"linecolor\":\"black\",\"mirror\":false},\"template\":{\"data\":{\"bar\":[{\"error_x\":{\"color\":\"#2a3f5f\"},\"error_y\":{\"color\":\"#2a3f5f\"},\"marker\":{\"line\":{\"color\":\"#E5ECF6\",\"width\":0.5},\"pattern\":{\"fillmode\":\"overlay\",\"size\":10,\"solidity\":0.2}},\"type\":\"bar\"}],\"barpolar\":[{\"marker\":{\"line\":{\"color\":\"#E5ECF6\",\"width\":0.5},\"pattern\":{\"fillmode\":\"overlay\",\"size\":10,\"solidity\":0.2}},\"type\":\"barpolar\"}],\"carpet\":[{\"aaxis\":{\"endlinecolor\":\"#2a3f5f\",\"gridcolor\":\"white\",\"linecolor\":\"white\",\"minorgridcolor\":\"white\",\"startlinecolor\":\"#2a3f5f\"},\"baxis\":{\"endlinecolor\":\"#2a3f5f\",\"gridcolor\":\"white\",\"linecolor\":\"white\",\"minorgridcolor\":\"white\",\"startlinecolor\":\"#2a3f5f\"},\"type\":\"carpet\"}],\"choropleth\":[{\"colorbar\":{\"outlinewidth\":0,\"ticks\":\"\"},\"type\":\"choropleth\"}],\"contour\":[{\"colorbar\":{\"outlinewidth\":0,\"ticks\":\"\"},\"colorscale\":[[0.0,\"#0d0887\"],[0.1111111111111111,\"#46039f\"],[0.2222222222222222,\"#7201a8\"],[0.3333333333333333,\"#9c179e\"],[0.4444444444444444,\"#bd3786\"],[0.5555555555555556,\"#d8576b\"],[0.6666666666666666,\"#ed7953\"],[0.7777777777777778,\"#fb9f3a\"],[0.8888888888888888,\"#fdca26\"],[1.0,\"#f0f921\"]],\"type\":\"contour\"}],\"contourcarpet\":[{\"colorbar\":{\"outlinewidth\":0,\"ticks\":\"\"},\"type\":\"contourcarpet\"}],\"heatmap\":[{\"colorbar\":{\"outlinewidth\":0,\"ticks\":\"\"},\"colorscale\":[[0.0,\"#0d0887\"],[0.1111111111111111,\"#46039f\"],[0.2222222222222222,\"#7201a8\"],[0.3333333333333333,\"#9c179e\"],[0.4444444444444444,\"#bd3786\"],[0.5555555555555556,\"#d8576b\"],[0.6666666666666666,\"#ed7953\"],[0.7777777777777778,\"#fb9f3a\"],[0.8888888888888888,\"#fdca26\"],[1.0,\"#f0f921\"]],\"type\":\"heatmap\"}],\"heatmapgl\":[{\"colorbar\":{\"outlinewidth\":0,\"ticks\":\"\"},\"colorscale\":[[0.0,\"#0d0887\"],[0.1111111111111111,\"#46039f\"],[0.2222222222222222,\"#7201a8\"],[0.3333333333333333,\"#9c179e\"],[0.4444444444444444,\"#bd3786\"],[0.5555555555555556,\"#d8576b\"],[0.6666666666666666,\"#ed7953\"],[0.7777777777777778,\"#fb9f3a\"],[0.8888888888888888,\"#fdca26\"],[1.0,\"#f0f921\"]],\"type\":\"heatmapgl\"}],\"histogram\":[{\"marker\":{\"pattern\":{\"fillmode\":\"overlay\",\"size\":10,\"solidity\":0.2}},\"type\":\"histogram\"}],\"histogram2d\":[{\"colorbar\":{\"outlinewidth\":0,\"ticks\":\"\"},\"colorscale\":[[0.0,\"#0d0887\"],[0.1111111111111111,\"#46039f\"],[0.2222222222222222,\"#7201a8\"],[0.3333333333333333,\"#9c179e\"],[0.4444444444444444,\"#bd3786\"],[0.5555555555555556,\"#d8576b\"],[0.6666666666666666,\"#ed7953\"],[0.7777777777777778,\"#fb9f3a\"],[0.8888888888888888,\"#fdca26\"],[1.0,\"#f0f921\"]],\"type\":\"histogram2d\"}],\"histogram2dcontour\":[{\"colorbar\":{\"outlinewidth\":0,\"ticks\":\"\"},\"colorscale\":[[0.0,\"#0d0887\"],[0.1111111111111111,\"#46039f\"],[0.2222222222222222,\"#7201a8\"],[0.3333333333333333,\"#9c179e\"],[0.4444444444444444,\"#bd3786\"],[0.5555555555555556,\"#d8576b\"],[0.6666666666666666,\"#ed7953\"],[0.7777777777777778,\"#fb9f3a\"],[0.8888888888888888,\"#fdca26\"],[1.0,\"#f0f921\"]],\"type\":\"histogram2dcontour\"}],\"mesh3d\":[{\"colorbar\":{\"outlinewidth\":0,\"ticks\":\"\"},\"type\":\"mesh3d\"}],\"parcoords\":[{\"line\":{\"colorbar\":{\"outlinewidth\":0,\"ticks\":\"\"}},\"type\":\"parcoords\"}],\"pie\":[{\"automargin\":true,\"type\":\"pie\"}],\"scatter\":[{\"marker\":{\"colorbar\":{\"outlinewidth\":0,\"ticks\":\"\"}},\"type\":\"scatter\"}],\"scatter3d\":[{\"line\":{\"colorbar\":{\"outlinewidth\":0,\"ticks\":\"\"}},\"marker\":{\"colorbar\":{\"outlinewidth\":0,\"ticks\":\"\"}},\"type\":\"scatter3d\"}],\"scattercarpet\":[{\"marker\":{\"colorbar\":{\"outlinewidth\":0,\"ticks\":\"\"}},\"type\":\"scattercarpet\"}],\"scattergeo\":[{\"marker\":{\"colorbar\":{\"outlinewidth\":0,\"ticks\":\"\"}},\"type\":\"scattergeo\"}],\"scattergl\":[{\"marker\":{\"colorbar\":{\"outlinewidth\":0,\"ticks\":\"\"}},\"type\":\"scattergl\"}],\"scattermapbox\":[{\"marker\":{\"colorbar\":{\"outlinewidth\":0,\"ticks\":\"\"}},\"type\":\"scattermapbox\"}],\"scatterpolar\":[{\"marker\":{\"colorbar\":{\"outlinewidth\":0,\"ticks\":\"\"}},\"type\":\"scatterpolar\"}],\"scatterpolargl\":[{\"marker\":{\"colorbar\":{\"outlinewidth\":0,\"ticks\":\"\"}},\"type\":\"scatterpolargl\"}],\"scatterternary\":[{\"marker\":{\"colorbar\":{\"outlinewidth\":0,\"ticks\":\"\"}},\"type\":\"scatterternary\"}],\"surface\":[{\"colorbar\":{\"outlinewidth\":0,\"ticks\":\"\"},\"colorscale\":[[0.0,\"#0d0887\"],[0.1111111111111111,\"#46039f\"],[0.2222222222222222,\"#7201a8\"],[0.3333333333333333,\"#9c179e\"],[0.4444444444444444,\"#bd3786\"],[0.5555555555555556,\"#d8576b\"],[0.6666666666666666,\"#ed7953\"],[0.7777777777777778,\"#fb9f3a\"],[0.8888888888888888,\"#fdca26\"],[1.0,\"#f0f921\"]],\"type\":\"surface\"}],\"table\":[{\"cells\":{\"fill\":{\"color\":\"#EBF0F8\"},\"line\":{\"color\":\"white\"}},\"header\":{\"fill\":{\"color\":\"#C8D4E3\"},\"line\":{\"color\":\"white\"}},\"type\":\"table\"}]},\"layout\":{\"annotationdefaults\":{\"arrowcolor\":\"#2a3f5f\",\"arrowhead\":0,\"arrowwidth\":1},\"autotypenumbers\":\"strict\",\"coloraxis\":{\"colorbar\":{\"outlinewidth\":0,\"ticks\":\"\"}},\"colorscale\":{\"diverging\":[[0,\"#8e0152\"],[0.1,\"#c51b7d\"],[0.2,\"#de77ae\"],[0.3,\"#f1b6da\"],[0.4,\"#fde0ef\"],[0.5,\"#f7f7f7\"],[0.6,\"#e6f5d0\"],[0.7,\"#b8e186\"],[0.8,\"#7fbc41\"],[0.9,\"#4d9221\"],[1,\"#276419\"]],\"sequential\":[[0.0,\"#0d0887\"],[0.1111111111111111,\"#46039f\"],[0.2222222222222222,\"#7201a8\"],[0.3333333333333333,\"#9c179e\"],[0.4444444444444444,\"#bd3786\"],[0.5555555555555556,\"#d8576b\"],[0.6666666666666666,\"#ed7953\"],[0.7777777777777778,\"#fb9f3a\"],[0.8888888888888888,\"#fdca26\"],[1.0,\"#f0f921\"]],\"sequentialminus\":[[0.0,\"#0d0887\"],[0.1111111111111111,\"#46039f\"],[0.2222222222222222,\"#7201a8\"],[0.3333333333333333,\"#9c179e\"],[0.4444444444444444,\"#bd3786\"],[0.5555555555555556,\"#d8576b\"],[0.6666666666666666,\"#ed7953\"],[0.7777777777777778,\"#fb9f3a\"],[0.8888888888888888,\"#fdca26\"],[1.0,\"#f0f921\"]]},\"colorway\":[\"#636efa\",\"#EF553B\",\"#00cc96\",\"#ab63fa\",\"#FFA15A\",\"#19d3f3\",\"#FF6692\",\"#B6E880\",\"#FF97FF\",\"#FECB52\"],\"font\":{\"color\":\"#2a3f5f\"},\"geo\":{\"bgcolor\":\"white\",\"lakecolor\":\"white\",\"landcolor\":\"#E5ECF6\",\"showlakes\":true,\"showland\":true,\"subunitcolor\":\"white\"},\"hoverlabel\":{\"align\":\"left\"},\"hovermode\":\"closest\",\"mapbox\":{\"style\":\"light\"},\"paper_bgcolor\":\"white\",\"plot_bgcolor\":\"#E5ECF6\",\"polar\":{\"angularaxis\":{\"gridcolor\":\"white\",\"linecolor\":\"white\",\"ticks\":\"\"},\"bgcolor\":\"#E5ECF6\",\"radialaxis\":{\"gridcolor\":\"white\",\"linecolor\":\"white\",\"ticks\":\"\"}},\"scene\":{\"xaxis\":{\"backgroundcolor\":\"#E5ECF6\",\"gridcolor\":\"white\",\"gridwidth\":2,\"linecolor\":\"white\",\"showbackground\":true,\"ticks\":\"\",\"zerolinecolor\":\"white\"},\"yaxis\":{\"backgroundcolor\":\"#E5ECF6\",\"gridcolor\":\"white\",\"gridwidth\":2,\"linecolor\":\"white\",\"showbackground\":true,\"ticks\":\"\",\"zerolinecolor\":\"white\"},\"zaxis\":{\"backgroundcolor\":\"#E5ECF6\",\"gridcolor\":\"white\",\"gridwidth\":2,\"linecolor\":\"white\",\"showbackground\":true,\"ticks\":\"\",\"zerolinecolor\":\"white\"}},\"shapedefaults\":{\"line\":{\"color\":\"#2a3f5f\"}},\"ternary\":{\"aaxis\":{\"gridcolor\":\"white\",\"linecolor\":\"white\",\"ticks\":\"\"},\"baxis\":{\"gridcolor\":\"white\",\"linecolor\":\"white\",\"ticks\":\"\"},\"bgcolor\":\"#E5ECF6\",\"caxis\":{\"gridcolor\":\"white\",\"linecolor\":\"white\",\"ticks\":\"\"}},\"title\":{\"x\":0.05},\"xaxis\":{\"automargin\":true,\"gridcolor\":\"white\",\"linecolor\":\"white\",\"ticks\":\"\",\"title\":{\"standoff\":15},\"zerolinecolor\":\"white\",\"zerolinewidth\":2},\"yaxis\":{\"automargin\":true,\"gridcolor\":\"white\",\"linecolor\":\"white\",\"ticks\":\"\",\"title\":{\"standoff\":15},\"zerolinecolor\":\"white\",\"zerolinewidth\":2}}}},                        {\"responsive\": true}                    ).then(function(){\n",
       "                            \n",
       "var gd = document.getElementById('3773755c-8e75-4594-8f50-81a92bac4201');\n",
       "var x = new MutationObserver(function (mutations, observer) {{\n",
       "        var display = window.getComputedStyle(gd).display;\n",
       "        if (!display || display === 'none') {{\n",
       "            console.log([gd, 'removed!']);\n",
       "            Plotly.purge(gd);\n",
       "            observer.disconnect();\n",
       "        }}\n",
       "}});\n",
       "\n",
       "// Listen for the removal of the full notebook cells\n",
       "var notebookContainer = gd.closest('#notebook-container');\n",
       "if (notebookContainer) {{\n",
       "    x.observe(notebookContainer, {childList: true});\n",
       "}}\n",
       "\n",
       "// Listen for the clearing of the current output cell\n",
       "var outputEl = gd.closest('.output');\n",
       "if (outputEl) {{\n",
       "    x.observe(outputEl, {childList: true});\n",
       "}}\n",
       "\n",
       "                        })                };                });            </script>        </div>"
      ]
     },
     "metadata": {},
     "output_type": "display_data"
    }
   ],
   "source": [
    "from gtda.time_series import SingleTakensEmbedding\n",
    "from gtda.plotting import plot_point_cloud\n",
    "\n",
    "#Define axes as how many dimensions you want the embedded data \n",
    "axes = 2\n",
    "\n",
    "#Embedding the data\n",
    "embedder_periodic = SingleTakensEmbedding(\n",
    "    parameters_type = \"fixed\", n_jobs = 2, time_delay = 8, dimension = axes, stride = 10,)\n",
    "\n",
    "embedded_data = embedder_periodic.fit_transform(data[:,0,0,0])\n",
    "\n",
    "#Comparing length of data to embedded data\n",
    "print('Number of Data Points: ', len(data[:,0,0,0]))\n",
    "print('Number of Embedded Data Points: ', len(embedded_data))\n",
    "print(\"Shape of embedded time series:\", embedded_data.shape)\n",
    "\n",
    "#Plotting embedded data\n",
    "plot_point_cloud(embedded_data)"
   ]
  },
  {
   "cell_type": "markdown",
   "id": "560a3f60",
   "metadata": {},
   "source": [
    "# Persistent Homology"
   ]
  },
  {
   "cell_type": "code",
   "execution_count": 84,
   "id": "efffa001",
   "metadata": {},
   "outputs": [
    {
     "data": {
      "application/vnd.plotly.v1+json": {
       "config": {
        "plotlyServerURL": "https://plot.ly"
       },
       "data": [
        {
         "hoverinfo": "none",
         "line": {
          "color": "black",
          "dash": "dash",
          "width": 1
         },
         "mode": "lines",
         "showlegend": false,
         "type": "scatter",
         "x": [
          -0.24083189010620118,
          12.282426395416259
         ],
         "y": [
          -0.24083189010620118,
          12.282426395416259
         ]
        },
        {
         "hoverinfo": "text",
         "hovertext": [
          "(0.0, 1.0), multiplicity: 2",
          "(0.0, 1.0), multiplicity: 2",
          "(0.0, 1.4142135381698608)",
          "(0.0, 2.0), multiplicity: 3",
          "(0.0, 2.0), multiplicity: 3",
          "(0.0, 2.0), multiplicity: 3",
          "(0.0, 2.2360680103302), multiplicity: 2",
          "(0.0, 2.2360680103302), multiplicity: 2",
          "(0.0, 2.8284270763397217), multiplicity: 2",
          "(0.0, 2.8284270763397217), multiplicity: 2",
          "(0.0, 3.0), multiplicity: 2",
          "(0.0, 3.0), multiplicity: 2",
          "(0.0, 3.1622776985168457)",
          "(0.0, 3.605551242828369), multiplicity: 2",
          "(0.0, 3.605551242828369), multiplicity: 2",
          "(0.0, 4.242640495300293)",
          "(0.0, 4.4721360206604)",
          "(0.0, 12.041594505310059), multiplicity: 2",
          "(0.0, 12.041594505310059), multiplicity: 2"
         ],
         "mode": "markers",
         "name": "H0",
         "type": "scatter",
         "x": [
          0,
          0,
          0,
          0,
          0,
          0,
          0,
          0,
          0,
          0,
          0,
          0,
          0,
          0,
          0,
          0,
          0,
          0,
          0
         ],
         "y": [
          1,
          1,
          1.4142135381698608,
          2,
          2,
          2,
          2.2360680103302,
          2.2360680103302,
          2.8284270763397217,
          2.8284270763397217,
          3,
          3,
          3.1622776985168457,
          3.605551242828369,
          3.605551242828369,
          4.242640495300293,
          4.4721360206604,
          12.041594505310059,
          12.041594505310059
         ]
        },
        {
         "hoverinfo": "text",
         "hovertext": [
          "(5.0, 6.082762718200684)",
          "(3.605551242828369, 4.123105525970459)",
          "(3.0, 3.1622776985168457)"
         ],
         "mode": "markers",
         "name": "H1",
         "type": "scatter",
         "x": [
          5,
          3.605551242828369,
          3
         ],
         "y": [
          6.082762718200684,
          4.123105525970459,
          3.1622776985168457
         ]
        },
        {
         "hoverinfo": "text",
         "hovertext": [],
         "mode": "markers",
         "name": "H2",
         "type": "scatter",
         "x": [],
         "y": []
        }
       ],
       "layout": {
        "height": 500,
        "plot_bgcolor": "white",
        "template": {
         "data": {
          "bar": [
           {
            "error_x": {
             "color": "#2a3f5f"
            },
            "error_y": {
             "color": "#2a3f5f"
            },
            "marker": {
             "line": {
              "color": "#E5ECF6",
              "width": 0.5
             },
             "pattern": {
              "fillmode": "overlay",
              "size": 10,
              "solidity": 0.2
             }
            },
            "type": "bar"
           }
          ],
          "barpolar": [
           {
            "marker": {
             "line": {
              "color": "#E5ECF6",
              "width": 0.5
             },
             "pattern": {
              "fillmode": "overlay",
              "size": 10,
              "solidity": 0.2
             }
            },
            "type": "barpolar"
           }
          ],
          "carpet": [
           {
            "aaxis": {
             "endlinecolor": "#2a3f5f",
             "gridcolor": "white",
             "linecolor": "white",
             "minorgridcolor": "white",
             "startlinecolor": "#2a3f5f"
            },
            "baxis": {
             "endlinecolor": "#2a3f5f",
             "gridcolor": "white",
             "linecolor": "white",
             "minorgridcolor": "white",
             "startlinecolor": "#2a3f5f"
            },
            "type": "carpet"
           }
          ],
          "choropleth": [
           {
            "colorbar": {
             "outlinewidth": 0,
             "ticks": ""
            },
            "type": "choropleth"
           }
          ],
          "contour": [
           {
            "colorbar": {
             "outlinewidth": 0,
             "ticks": ""
            },
            "colorscale": [
             [
              0,
              "#0d0887"
             ],
             [
              0.1111111111111111,
              "#46039f"
             ],
             [
              0.2222222222222222,
              "#7201a8"
             ],
             [
              0.3333333333333333,
              "#9c179e"
             ],
             [
              0.4444444444444444,
              "#bd3786"
             ],
             [
              0.5555555555555556,
              "#d8576b"
             ],
             [
              0.6666666666666666,
              "#ed7953"
             ],
             [
              0.7777777777777778,
              "#fb9f3a"
             ],
             [
              0.8888888888888888,
              "#fdca26"
             ],
             [
              1,
              "#f0f921"
             ]
            ],
            "type": "contour"
           }
          ],
          "contourcarpet": [
           {
            "colorbar": {
             "outlinewidth": 0,
             "ticks": ""
            },
            "type": "contourcarpet"
           }
          ],
          "heatmap": [
           {
            "colorbar": {
             "outlinewidth": 0,
             "ticks": ""
            },
            "colorscale": [
             [
              0,
              "#0d0887"
             ],
             [
              0.1111111111111111,
              "#46039f"
             ],
             [
              0.2222222222222222,
              "#7201a8"
             ],
             [
              0.3333333333333333,
              "#9c179e"
             ],
             [
              0.4444444444444444,
              "#bd3786"
             ],
             [
              0.5555555555555556,
              "#d8576b"
             ],
             [
              0.6666666666666666,
              "#ed7953"
             ],
             [
              0.7777777777777778,
              "#fb9f3a"
             ],
             [
              0.8888888888888888,
              "#fdca26"
             ],
             [
              1,
              "#f0f921"
             ]
            ],
            "type": "heatmap"
           }
          ],
          "heatmapgl": [
           {
            "colorbar": {
             "outlinewidth": 0,
             "ticks": ""
            },
            "colorscale": [
             [
              0,
              "#0d0887"
             ],
             [
              0.1111111111111111,
              "#46039f"
             ],
             [
              0.2222222222222222,
              "#7201a8"
             ],
             [
              0.3333333333333333,
              "#9c179e"
             ],
             [
              0.4444444444444444,
              "#bd3786"
             ],
             [
              0.5555555555555556,
              "#d8576b"
             ],
             [
              0.6666666666666666,
              "#ed7953"
             ],
             [
              0.7777777777777778,
              "#fb9f3a"
             ],
             [
              0.8888888888888888,
              "#fdca26"
             ],
             [
              1,
              "#f0f921"
             ]
            ],
            "type": "heatmapgl"
           }
          ],
          "histogram": [
           {
            "marker": {
             "pattern": {
              "fillmode": "overlay",
              "size": 10,
              "solidity": 0.2
             }
            },
            "type": "histogram"
           }
          ],
          "histogram2d": [
           {
            "colorbar": {
             "outlinewidth": 0,
             "ticks": ""
            },
            "colorscale": [
             [
              0,
              "#0d0887"
             ],
             [
              0.1111111111111111,
              "#46039f"
             ],
             [
              0.2222222222222222,
              "#7201a8"
             ],
             [
              0.3333333333333333,
              "#9c179e"
             ],
             [
              0.4444444444444444,
              "#bd3786"
             ],
             [
              0.5555555555555556,
              "#d8576b"
             ],
             [
              0.6666666666666666,
              "#ed7953"
             ],
             [
              0.7777777777777778,
              "#fb9f3a"
             ],
             [
              0.8888888888888888,
              "#fdca26"
             ],
             [
              1,
              "#f0f921"
             ]
            ],
            "type": "histogram2d"
           }
          ],
          "histogram2dcontour": [
           {
            "colorbar": {
             "outlinewidth": 0,
             "ticks": ""
            },
            "colorscale": [
             [
              0,
              "#0d0887"
             ],
             [
              0.1111111111111111,
              "#46039f"
             ],
             [
              0.2222222222222222,
              "#7201a8"
             ],
             [
              0.3333333333333333,
              "#9c179e"
             ],
             [
              0.4444444444444444,
              "#bd3786"
             ],
             [
              0.5555555555555556,
              "#d8576b"
             ],
             [
              0.6666666666666666,
              "#ed7953"
             ],
             [
              0.7777777777777778,
              "#fb9f3a"
             ],
             [
              0.8888888888888888,
              "#fdca26"
             ],
             [
              1,
              "#f0f921"
             ]
            ],
            "type": "histogram2dcontour"
           }
          ],
          "mesh3d": [
           {
            "colorbar": {
             "outlinewidth": 0,
             "ticks": ""
            },
            "type": "mesh3d"
           }
          ],
          "parcoords": [
           {
            "line": {
             "colorbar": {
              "outlinewidth": 0,
              "ticks": ""
             }
            },
            "type": "parcoords"
           }
          ],
          "pie": [
           {
            "automargin": true,
            "type": "pie"
           }
          ],
          "scatter": [
           {
            "marker": {
             "colorbar": {
              "outlinewidth": 0,
              "ticks": ""
             }
            },
            "type": "scatter"
           }
          ],
          "scatter3d": [
           {
            "line": {
             "colorbar": {
              "outlinewidth": 0,
              "ticks": ""
             }
            },
            "marker": {
             "colorbar": {
              "outlinewidth": 0,
              "ticks": ""
             }
            },
            "type": "scatter3d"
           }
          ],
          "scattercarpet": [
           {
            "marker": {
             "colorbar": {
              "outlinewidth": 0,
              "ticks": ""
             }
            },
            "type": "scattercarpet"
           }
          ],
          "scattergeo": [
           {
            "marker": {
             "colorbar": {
              "outlinewidth": 0,
              "ticks": ""
             }
            },
            "type": "scattergeo"
           }
          ],
          "scattergl": [
           {
            "marker": {
             "colorbar": {
              "outlinewidth": 0,
              "ticks": ""
             }
            },
            "type": "scattergl"
           }
          ],
          "scattermapbox": [
           {
            "marker": {
             "colorbar": {
              "outlinewidth": 0,
              "ticks": ""
             }
            },
            "type": "scattermapbox"
           }
          ],
          "scatterpolar": [
           {
            "marker": {
             "colorbar": {
              "outlinewidth": 0,
              "ticks": ""
             }
            },
            "type": "scatterpolar"
           }
          ],
          "scatterpolargl": [
           {
            "marker": {
             "colorbar": {
              "outlinewidth": 0,
              "ticks": ""
             }
            },
            "type": "scatterpolargl"
           }
          ],
          "scatterternary": [
           {
            "marker": {
             "colorbar": {
              "outlinewidth": 0,
              "ticks": ""
             }
            },
            "type": "scatterternary"
           }
          ],
          "surface": [
           {
            "colorbar": {
             "outlinewidth": 0,
             "ticks": ""
            },
            "colorscale": [
             [
              0,
              "#0d0887"
             ],
             [
              0.1111111111111111,
              "#46039f"
             ],
             [
              0.2222222222222222,
              "#7201a8"
             ],
             [
              0.3333333333333333,
              "#9c179e"
             ],
             [
              0.4444444444444444,
              "#bd3786"
             ],
             [
              0.5555555555555556,
              "#d8576b"
             ],
             [
              0.6666666666666666,
              "#ed7953"
             ],
             [
              0.7777777777777778,
              "#fb9f3a"
             ],
             [
              0.8888888888888888,
              "#fdca26"
             ],
             [
              1,
              "#f0f921"
             ]
            ],
            "type": "surface"
           }
          ],
          "table": [
           {
            "cells": {
             "fill": {
              "color": "#EBF0F8"
             },
             "line": {
              "color": "white"
             }
            },
            "header": {
             "fill": {
              "color": "#C8D4E3"
             },
             "line": {
              "color": "white"
             }
            },
            "type": "table"
           }
          ]
         },
         "layout": {
          "annotationdefaults": {
           "arrowcolor": "#2a3f5f",
           "arrowhead": 0,
           "arrowwidth": 1
          },
          "autotypenumbers": "strict",
          "coloraxis": {
           "colorbar": {
            "outlinewidth": 0,
            "ticks": ""
           }
          },
          "colorscale": {
           "diverging": [
            [
             0,
             "#8e0152"
            ],
            [
             0.1,
             "#c51b7d"
            ],
            [
             0.2,
             "#de77ae"
            ],
            [
             0.3,
             "#f1b6da"
            ],
            [
             0.4,
             "#fde0ef"
            ],
            [
             0.5,
             "#f7f7f7"
            ],
            [
             0.6,
             "#e6f5d0"
            ],
            [
             0.7,
             "#b8e186"
            ],
            [
             0.8,
             "#7fbc41"
            ],
            [
             0.9,
             "#4d9221"
            ],
            [
             1,
             "#276419"
            ]
           ],
           "sequential": [
            [
             0,
             "#0d0887"
            ],
            [
             0.1111111111111111,
             "#46039f"
            ],
            [
             0.2222222222222222,
             "#7201a8"
            ],
            [
             0.3333333333333333,
             "#9c179e"
            ],
            [
             0.4444444444444444,
             "#bd3786"
            ],
            [
             0.5555555555555556,
             "#d8576b"
            ],
            [
             0.6666666666666666,
             "#ed7953"
            ],
            [
             0.7777777777777778,
             "#fb9f3a"
            ],
            [
             0.8888888888888888,
             "#fdca26"
            ],
            [
             1,
             "#f0f921"
            ]
           ],
           "sequentialminus": [
            [
             0,
             "#0d0887"
            ],
            [
             0.1111111111111111,
             "#46039f"
            ],
            [
             0.2222222222222222,
             "#7201a8"
            ],
            [
             0.3333333333333333,
             "#9c179e"
            ],
            [
             0.4444444444444444,
             "#bd3786"
            ],
            [
             0.5555555555555556,
             "#d8576b"
            ],
            [
             0.6666666666666666,
             "#ed7953"
            ],
            [
             0.7777777777777778,
             "#fb9f3a"
            ],
            [
             0.8888888888888888,
             "#fdca26"
            ],
            [
             1,
             "#f0f921"
            ]
           ]
          },
          "colorway": [
           "#636efa",
           "#EF553B",
           "#00cc96",
           "#ab63fa",
           "#FFA15A",
           "#19d3f3",
           "#FF6692",
           "#B6E880",
           "#FF97FF",
           "#FECB52"
          ],
          "font": {
           "color": "#2a3f5f"
          },
          "geo": {
           "bgcolor": "white",
           "lakecolor": "white",
           "landcolor": "#E5ECF6",
           "showlakes": true,
           "showland": true,
           "subunitcolor": "white"
          },
          "hoverlabel": {
           "align": "left"
          },
          "hovermode": "closest",
          "mapbox": {
           "style": "light"
          },
          "paper_bgcolor": "white",
          "plot_bgcolor": "#E5ECF6",
          "polar": {
           "angularaxis": {
            "gridcolor": "white",
            "linecolor": "white",
            "ticks": ""
           },
           "bgcolor": "#E5ECF6",
           "radialaxis": {
            "gridcolor": "white",
            "linecolor": "white",
            "ticks": ""
           }
          },
          "scene": {
           "xaxis": {
            "backgroundcolor": "#E5ECF6",
            "gridcolor": "white",
            "gridwidth": 2,
            "linecolor": "white",
            "showbackground": true,
            "ticks": "",
            "zerolinecolor": "white"
           },
           "yaxis": {
            "backgroundcolor": "#E5ECF6",
            "gridcolor": "white",
            "gridwidth": 2,
            "linecolor": "white",
            "showbackground": true,
            "ticks": "",
            "zerolinecolor": "white"
           },
           "zaxis": {
            "backgroundcolor": "#E5ECF6",
            "gridcolor": "white",
            "gridwidth": 2,
            "linecolor": "white",
            "showbackground": true,
            "ticks": "",
            "zerolinecolor": "white"
           }
          },
          "shapedefaults": {
           "line": {
            "color": "#2a3f5f"
           }
          },
          "ternary": {
           "aaxis": {
            "gridcolor": "white",
            "linecolor": "white",
            "ticks": ""
           },
           "baxis": {
            "gridcolor": "white",
            "linecolor": "white",
            "ticks": ""
           },
           "bgcolor": "#E5ECF6",
           "caxis": {
            "gridcolor": "white",
            "linecolor": "white",
            "ticks": ""
           }
          },
          "title": {
           "x": 0.05
          },
          "xaxis": {
           "automargin": true,
           "gridcolor": "white",
           "linecolor": "white",
           "ticks": "",
           "title": {
            "standoff": 15
           },
           "zerolinecolor": "white",
           "zerolinewidth": 2
          },
          "yaxis": {
           "automargin": true,
           "gridcolor": "white",
           "linecolor": "white",
           "ticks": "",
           "title": {
            "standoff": 15
           },
           "zerolinecolor": "white",
           "zerolinewidth": 2
          }
         }
        },
        "width": 500,
        "xaxis": {
         "autorange": false,
         "exponentformat": "e",
         "linecolor": "black",
         "linewidth": 1,
         "mirror": false,
         "range": [
          -0.24083189010620118,
          12.282426395416259
         ],
         "showexponent": "all",
         "showline": true,
         "side": "bottom",
         "ticks": "outside",
         "title": {
          "text": "Birth"
         },
         "type": "linear",
         "zeroline": true
        },
        "yaxis": {
         "autorange": false,
         "exponentformat": "e",
         "linecolor": "black",
         "linewidth": 1,
         "mirror": false,
         "range": [
          -0.24083189010620118,
          12.282426395416259
         ],
         "scaleanchor": "x",
         "scaleratio": 1,
         "showexponent": "all",
         "showline": true,
         "side": "left",
         "ticks": "outside",
         "title": {
          "text": "Death"
         },
         "type": "linear",
         "zeroline": true
        }
       }
      },
      "text/html": [
       "<div>                            <div id=\"c452e91f-785e-479e-9598-ce883d93aa26\" class=\"plotly-graph-div\" style=\"height:500px; width:500px;\"></div>            <script type=\"text/javascript\">                require([\"plotly\"], function(Plotly) {                    window.PLOTLYENV=window.PLOTLYENV || {};                                    if (document.getElementById(\"c452e91f-785e-479e-9598-ce883d93aa26\")) {                    Plotly.newPlot(                        \"c452e91f-785e-479e-9598-ce883d93aa26\",                        [{\"hoverinfo\":\"none\",\"line\":{\"color\":\"black\",\"dash\":\"dash\",\"width\":1},\"mode\":\"lines\",\"showlegend\":false,\"x\":[-0.24083189010620118,12.282426395416259],\"y\":[-0.24083189010620118,12.282426395416259],\"type\":\"scatter\"},{\"hoverinfo\":\"text\",\"hovertext\":[\"(0.0, 1.0), multiplicity: 2\",\"(0.0, 1.0), multiplicity: 2\",\"(0.0, 1.4142135381698608)\",\"(0.0, 2.0), multiplicity: 3\",\"(0.0, 2.0), multiplicity: 3\",\"(0.0, 2.0), multiplicity: 3\",\"(0.0, 2.2360680103302), multiplicity: 2\",\"(0.0, 2.2360680103302), multiplicity: 2\",\"(0.0, 2.8284270763397217), multiplicity: 2\",\"(0.0, 2.8284270763397217), multiplicity: 2\",\"(0.0, 3.0), multiplicity: 2\",\"(0.0, 3.0), multiplicity: 2\",\"(0.0, 3.1622776985168457)\",\"(0.0, 3.605551242828369), multiplicity: 2\",\"(0.0, 3.605551242828369), multiplicity: 2\",\"(0.0, 4.242640495300293)\",\"(0.0, 4.4721360206604)\",\"(0.0, 12.041594505310059), multiplicity: 2\",\"(0.0, 12.041594505310059), multiplicity: 2\"],\"mode\":\"markers\",\"name\":\"H0\",\"x\":[0.0,0.0,0.0,0.0,0.0,0.0,0.0,0.0,0.0,0.0,0.0,0.0,0.0,0.0,0.0,0.0,0.0,0.0,0.0],\"y\":[1.0,1.0,1.4142135381698608,2.0,2.0,2.0,2.2360680103302,2.2360680103302,2.8284270763397217,2.8284270763397217,3.0,3.0,3.1622776985168457,3.605551242828369,3.605551242828369,4.242640495300293,4.4721360206604,12.041594505310059,12.041594505310059],\"type\":\"scatter\"},{\"hoverinfo\":\"text\",\"hovertext\":[\"(5.0, 6.082762718200684)\",\"(3.605551242828369, 4.123105525970459)\",\"(3.0, 3.1622776985168457)\"],\"mode\":\"markers\",\"name\":\"H1\",\"x\":[5.0,3.605551242828369,3.0],\"y\":[6.082762718200684,4.123105525970459,3.1622776985168457],\"type\":\"scatter\"},{\"hoverinfo\":\"text\",\"hovertext\":[],\"mode\":\"markers\",\"name\":\"H2\",\"x\":[],\"y\":[],\"type\":\"scatter\"}],                        {\"template\":{\"data\":{\"bar\":[{\"error_x\":{\"color\":\"#2a3f5f\"},\"error_y\":{\"color\":\"#2a3f5f\"},\"marker\":{\"line\":{\"color\":\"#E5ECF6\",\"width\":0.5},\"pattern\":{\"fillmode\":\"overlay\",\"size\":10,\"solidity\":0.2}},\"type\":\"bar\"}],\"barpolar\":[{\"marker\":{\"line\":{\"color\":\"#E5ECF6\",\"width\":0.5},\"pattern\":{\"fillmode\":\"overlay\",\"size\":10,\"solidity\":0.2}},\"type\":\"barpolar\"}],\"carpet\":[{\"aaxis\":{\"endlinecolor\":\"#2a3f5f\",\"gridcolor\":\"white\",\"linecolor\":\"white\",\"minorgridcolor\":\"white\",\"startlinecolor\":\"#2a3f5f\"},\"baxis\":{\"endlinecolor\":\"#2a3f5f\",\"gridcolor\":\"white\",\"linecolor\":\"white\",\"minorgridcolor\":\"white\",\"startlinecolor\":\"#2a3f5f\"},\"type\":\"carpet\"}],\"choropleth\":[{\"colorbar\":{\"outlinewidth\":0,\"ticks\":\"\"},\"type\":\"choropleth\"}],\"contour\":[{\"colorbar\":{\"outlinewidth\":0,\"ticks\":\"\"},\"colorscale\":[[0.0,\"#0d0887\"],[0.1111111111111111,\"#46039f\"],[0.2222222222222222,\"#7201a8\"],[0.3333333333333333,\"#9c179e\"],[0.4444444444444444,\"#bd3786\"],[0.5555555555555556,\"#d8576b\"],[0.6666666666666666,\"#ed7953\"],[0.7777777777777778,\"#fb9f3a\"],[0.8888888888888888,\"#fdca26\"],[1.0,\"#f0f921\"]],\"type\":\"contour\"}],\"contourcarpet\":[{\"colorbar\":{\"outlinewidth\":0,\"ticks\":\"\"},\"type\":\"contourcarpet\"}],\"heatmap\":[{\"colorbar\":{\"outlinewidth\":0,\"ticks\":\"\"},\"colorscale\":[[0.0,\"#0d0887\"],[0.1111111111111111,\"#46039f\"],[0.2222222222222222,\"#7201a8\"],[0.3333333333333333,\"#9c179e\"],[0.4444444444444444,\"#bd3786\"],[0.5555555555555556,\"#d8576b\"],[0.6666666666666666,\"#ed7953\"],[0.7777777777777778,\"#fb9f3a\"],[0.8888888888888888,\"#fdca26\"],[1.0,\"#f0f921\"]],\"type\":\"heatmap\"}],\"heatmapgl\":[{\"colorbar\":{\"outlinewidth\":0,\"ticks\":\"\"},\"colorscale\":[[0.0,\"#0d0887\"],[0.1111111111111111,\"#46039f\"],[0.2222222222222222,\"#7201a8\"],[0.3333333333333333,\"#9c179e\"],[0.4444444444444444,\"#bd3786\"],[0.5555555555555556,\"#d8576b\"],[0.6666666666666666,\"#ed7953\"],[0.7777777777777778,\"#fb9f3a\"],[0.8888888888888888,\"#fdca26\"],[1.0,\"#f0f921\"]],\"type\":\"heatmapgl\"}],\"histogram\":[{\"marker\":{\"pattern\":{\"fillmode\":\"overlay\",\"size\":10,\"solidity\":0.2}},\"type\":\"histogram\"}],\"histogram2d\":[{\"colorbar\":{\"outlinewidth\":0,\"ticks\":\"\"},\"colorscale\":[[0.0,\"#0d0887\"],[0.1111111111111111,\"#46039f\"],[0.2222222222222222,\"#7201a8\"],[0.3333333333333333,\"#9c179e\"],[0.4444444444444444,\"#bd3786\"],[0.5555555555555556,\"#d8576b\"],[0.6666666666666666,\"#ed7953\"],[0.7777777777777778,\"#fb9f3a\"],[0.8888888888888888,\"#fdca26\"],[1.0,\"#f0f921\"]],\"type\":\"histogram2d\"}],\"histogram2dcontour\":[{\"colorbar\":{\"outlinewidth\":0,\"ticks\":\"\"},\"colorscale\":[[0.0,\"#0d0887\"],[0.1111111111111111,\"#46039f\"],[0.2222222222222222,\"#7201a8\"],[0.3333333333333333,\"#9c179e\"],[0.4444444444444444,\"#bd3786\"],[0.5555555555555556,\"#d8576b\"],[0.6666666666666666,\"#ed7953\"],[0.7777777777777778,\"#fb9f3a\"],[0.8888888888888888,\"#fdca26\"],[1.0,\"#f0f921\"]],\"type\":\"histogram2dcontour\"}],\"mesh3d\":[{\"colorbar\":{\"outlinewidth\":0,\"ticks\":\"\"},\"type\":\"mesh3d\"}],\"parcoords\":[{\"line\":{\"colorbar\":{\"outlinewidth\":0,\"ticks\":\"\"}},\"type\":\"parcoords\"}],\"pie\":[{\"automargin\":true,\"type\":\"pie\"}],\"scatter\":[{\"marker\":{\"colorbar\":{\"outlinewidth\":0,\"ticks\":\"\"}},\"type\":\"scatter\"}],\"scatter3d\":[{\"line\":{\"colorbar\":{\"outlinewidth\":0,\"ticks\":\"\"}},\"marker\":{\"colorbar\":{\"outlinewidth\":0,\"ticks\":\"\"}},\"type\":\"scatter3d\"}],\"scattercarpet\":[{\"marker\":{\"colorbar\":{\"outlinewidth\":0,\"ticks\":\"\"}},\"type\":\"scattercarpet\"}],\"scattergeo\":[{\"marker\":{\"colorbar\":{\"outlinewidth\":0,\"ticks\":\"\"}},\"type\":\"scattergeo\"}],\"scattergl\":[{\"marker\":{\"colorbar\":{\"outlinewidth\":0,\"ticks\":\"\"}},\"type\":\"scattergl\"}],\"scattermapbox\":[{\"marker\":{\"colorbar\":{\"outlinewidth\":0,\"ticks\":\"\"}},\"type\":\"scattermapbox\"}],\"scatterpolar\":[{\"marker\":{\"colorbar\":{\"outlinewidth\":0,\"ticks\":\"\"}},\"type\":\"scatterpolar\"}],\"scatterpolargl\":[{\"marker\":{\"colorbar\":{\"outlinewidth\":0,\"ticks\":\"\"}},\"type\":\"scatterpolargl\"}],\"scatterternary\":[{\"marker\":{\"colorbar\":{\"outlinewidth\":0,\"ticks\":\"\"}},\"type\":\"scatterternary\"}],\"surface\":[{\"colorbar\":{\"outlinewidth\":0,\"ticks\":\"\"},\"colorscale\":[[0.0,\"#0d0887\"],[0.1111111111111111,\"#46039f\"],[0.2222222222222222,\"#7201a8\"],[0.3333333333333333,\"#9c179e\"],[0.4444444444444444,\"#bd3786\"],[0.5555555555555556,\"#d8576b\"],[0.6666666666666666,\"#ed7953\"],[0.7777777777777778,\"#fb9f3a\"],[0.8888888888888888,\"#fdca26\"],[1.0,\"#f0f921\"]],\"type\":\"surface\"}],\"table\":[{\"cells\":{\"fill\":{\"color\":\"#EBF0F8\"},\"line\":{\"color\":\"white\"}},\"header\":{\"fill\":{\"color\":\"#C8D4E3\"},\"line\":{\"color\":\"white\"}},\"type\":\"table\"}]},\"layout\":{\"annotationdefaults\":{\"arrowcolor\":\"#2a3f5f\",\"arrowhead\":0,\"arrowwidth\":1},\"autotypenumbers\":\"strict\",\"coloraxis\":{\"colorbar\":{\"outlinewidth\":0,\"ticks\":\"\"}},\"colorscale\":{\"diverging\":[[0,\"#8e0152\"],[0.1,\"#c51b7d\"],[0.2,\"#de77ae\"],[0.3,\"#f1b6da\"],[0.4,\"#fde0ef\"],[0.5,\"#f7f7f7\"],[0.6,\"#e6f5d0\"],[0.7,\"#b8e186\"],[0.8,\"#7fbc41\"],[0.9,\"#4d9221\"],[1,\"#276419\"]],\"sequential\":[[0.0,\"#0d0887\"],[0.1111111111111111,\"#46039f\"],[0.2222222222222222,\"#7201a8\"],[0.3333333333333333,\"#9c179e\"],[0.4444444444444444,\"#bd3786\"],[0.5555555555555556,\"#d8576b\"],[0.6666666666666666,\"#ed7953\"],[0.7777777777777778,\"#fb9f3a\"],[0.8888888888888888,\"#fdca26\"],[1.0,\"#f0f921\"]],\"sequentialminus\":[[0.0,\"#0d0887\"],[0.1111111111111111,\"#46039f\"],[0.2222222222222222,\"#7201a8\"],[0.3333333333333333,\"#9c179e\"],[0.4444444444444444,\"#bd3786\"],[0.5555555555555556,\"#d8576b\"],[0.6666666666666666,\"#ed7953\"],[0.7777777777777778,\"#fb9f3a\"],[0.8888888888888888,\"#fdca26\"],[1.0,\"#f0f921\"]]},\"colorway\":[\"#636efa\",\"#EF553B\",\"#00cc96\",\"#ab63fa\",\"#FFA15A\",\"#19d3f3\",\"#FF6692\",\"#B6E880\",\"#FF97FF\",\"#FECB52\"],\"font\":{\"color\":\"#2a3f5f\"},\"geo\":{\"bgcolor\":\"white\",\"lakecolor\":\"white\",\"landcolor\":\"#E5ECF6\",\"showlakes\":true,\"showland\":true,\"subunitcolor\":\"white\"},\"hoverlabel\":{\"align\":\"left\"},\"hovermode\":\"closest\",\"mapbox\":{\"style\":\"light\"},\"paper_bgcolor\":\"white\",\"plot_bgcolor\":\"#E5ECF6\",\"polar\":{\"angularaxis\":{\"gridcolor\":\"white\",\"linecolor\":\"white\",\"ticks\":\"\"},\"bgcolor\":\"#E5ECF6\",\"radialaxis\":{\"gridcolor\":\"white\",\"linecolor\":\"white\",\"ticks\":\"\"}},\"scene\":{\"xaxis\":{\"backgroundcolor\":\"#E5ECF6\",\"gridcolor\":\"white\",\"gridwidth\":2,\"linecolor\":\"white\",\"showbackground\":true,\"ticks\":\"\",\"zerolinecolor\":\"white\"},\"yaxis\":{\"backgroundcolor\":\"#E5ECF6\",\"gridcolor\":\"white\",\"gridwidth\":2,\"linecolor\":\"white\",\"showbackground\":true,\"ticks\":\"\",\"zerolinecolor\":\"white\"},\"zaxis\":{\"backgroundcolor\":\"#E5ECF6\",\"gridcolor\":\"white\",\"gridwidth\":2,\"linecolor\":\"white\",\"showbackground\":true,\"ticks\":\"\",\"zerolinecolor\":\"white\"}},\"shapedefaults\":{\"line\":{\"color\":\"#2a3f5f\"}},\"ternary\":{\"aaxis\":{\"gridcolor\":\"white\",\"linecolor\":\"white\",\"ticks\":\"\"},\"baxis\":{\"gridcolor\":\"white\",\"linecolor\":\"white\",\"ticks\":\"\"},\"bgcolor\":\"#E5ECF6\",\"caxis\":{\"gridcolor\":\"white\",\"linecolor\":\"white\",\"ticks\":\"\"}},\"title\":{\"x\":0.05},\"xaxis\":{\"automargin\":true,\"gridcolor\":\"white\",\"linecolor\":\"white\",\"ticks\":\"\",\"title\":{\"standoff\":15},\"zerolinecolor\":\"white\",\"zerolinewidth\":2},\"yaxis\":{\"automargin\":true,\"gridcolor\":\"white\",\"linecolor\":\"white\",\"ticks\":\"\",\"title\":{\"standoff\":15},\"zerolinecolor\":\"white\",\"zerolinewidth\":2}}},\"xaxis\":{\"title\":{\"text\":\"Birth\"},\"side\":\"bottom\",\"type\":\"linear\",\"range\":[-0.24083189010620118,12.282426395416259],\"autorange\":false,\"ticks\":\"outside\",\"showline\":true,\"zeroline\":true,\"linewidth\":1,\"linecolor\":\"black\",\"mirror\":false,\"showexponent\":\"all\",\"exponentformat\":\"e\"},\"yaxis\":{\"title\":{\"text\":\"Death\"},\"side\":\"left\",\"type\":\"linear\",\"range\":[-0.24083189010620118,12.282426395416259],\"autorange\":false,\"scaleanchor\":\"x\",\"scaleratio\":1,\"ticks\":\"outside\",\"showline\":true,\"zeroline\":true,\"linewidth\":1,\"linecolor\":\"black\",\"mirror\":false,\"showexponent\":\"all\",\"exponentformat\":\"e\"},\"width\":500,\"height\":500,\"plot_bgcolor\":\"white\"},                        {\"responsive\": true}                    ).then(function(){\n",
       "                            \n",
       "var gd = document.getElementById('c452e91f-785e-479e-9598-ce883d93aa26');\n",
       "var x = new MutationObserver(function (mutations, observer) {{\n",
       "        var display = window.getComputedStyle(gd).display;\n",
       "        if (!display || display === 'none') {{\n",
       "            console.log([gd, 'removed!']);\n",
       "            Plotly.purge(gd);\n",
       "            observer.disconnect();\n",
       "        }}\n",
       "}});\n",
       "\n",
       "// Listen for the removal of the full notebook cells\n",
       "var notebookContainer = gd.closest('#notebook-container');\n",
       "if (notebookContainer) {{\n",
       "    x.observe(notebookContainer, {childList: true});\n",
       "}}\n",
       "\n",
       "// Listen for the clearing of the current output cell\n",
       "var outputEl = gd.closest('.output');\n",
       "if (outputEl) {{\n",
       "    x.observe(outputEl, {childList: true});\n",
       "}}\n",
       "\n",
       "                        })                };                });            </script>        </div>"
      ]
     },
     "metadata": {},
     "output_type": "display_data"
    }
   ],
   "source": [
    "from gtda.homology import VietorisRipsPersistence\n",
    "\n",
    "#Comverting the embedded data into useful persistence data\n",
    "persistence_data = embedded_data[None, :, :]\n",
    "\n",
    "#0 - connected components, 1 - loops, 2 - voids\n",
    "homology_dimensions = [0, 1, 2]\n",
    "\n",
    "periodic_persistence = VietorisRipsPersistence(\n",
    "    homology_dimensions=homology_dimensions, n_jobs=6)\n",
    "\n",
    "#Grahing a persistence plot\n",
    "periodic_persistence.fit_transform_plot(persistence_data)\n",
    "plt.show()"
   ]
  }
 ],
 "metadata": {
  "kernelspec": {
   "display_name": "Python 3 (ipykernel)",
   "language": "python",
   "name": "python3"
  },
  "language_info": {
   "codemirror_mode": {
    "name": "ipython",
    "version": 3
   },
   "file_extension": ".py",
   "mimetype": "text/x-python",
   "name": "python",
   "nbconvert_exporter": "python",
   "pygments_lexer": "ipython3",
   "version": "3.9.7"
  }
 },
 "nbformat": 4,
 "nbformat_minor": 5
}
